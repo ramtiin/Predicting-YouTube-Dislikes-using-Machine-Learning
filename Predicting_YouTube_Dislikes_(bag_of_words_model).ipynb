{
  "cells": [
    {
      "cell_type": "markdown",
      "metadata": {
        "id": "view-in-github",
        "colab_type": "text"
      },
      "source": [
        "<a href=\"https://colab.research.google.com/github/ramtiin/Predicting-YouTube-Dislikes-using-Machine-Learning/blob/main/Predicting_YouTube_Dislikes_(bag_of_words_model).ipynb\" target=\"_parent\"><img src=\"https://colab.research.google.com/assets/colab-badge.svg\" alt=\"Open In Colab\"/></a>"
      ]
    },
    {
      "cell_type": "markdown",
      "source": [
        "This notebook uses a different technique called **bag-of-words (BoW)** instead of VADER and sentiment analysis and showed a lower MAE of around 2,700 which is more accurate."
      ],
      "metadata": {
        "id": "XHLgF1bRBw_Y"
      }
    },
    {
      "cell_type": "code",
      "execution_count": 1,
      "metadata": {
        "id": "fnT9ONz7A5i3"
      },
      "outputs": [],
      "source": [
        "import pandas as pd\n",
        "import numpy as np\n",
        "import matplotlib.pyplot as plt"
      ]
    },
    {
      "cell_type": "markdown",
      "metadata": {
        "id": "_IWxiNIU_SJ2"
      },
      "source": [
        "**Downloading the dataset:**"
      ]
    },
    {
      "cell_type": "markdown",
      "metadata": {
        "id": "MxGEjcSo_YhV"
      },
      "source": [
        "For downloading datasets from Kaggle, you will need an API key.\n",
        "\n",
        "To find your API credentials, follow these steps:\n",
        "\n",
        "1.   After signing in to https://kaggle.com/, select \"My Account\" from the menu on the top right. \n",
        "2.   Click \"Create New API Token\" under the \"API\" section. This will download a file kaggle.json.\n",
        "\n",
        "Then upload kaggle.json file to this notebook and run the following codes:\n"
      ]
    },
    {
      "cell_type": "code",
      "execution_count": 2,
      "metadata": {
        "colab": {
          "base_uri": "https://localhost:8080/"
        },
        "id": "7jiZyXR6AlHO",
        "outputId": "f5938ac3-157e-480a-f7a7-f27987683d4f"
      },
      "outputs": [
        {
          "output_type": "stream",
          "name": "stdout",
          "text": [
            "Downloading youtube-dislikes-dataset.zip to /content\n",
            " 78% 46.0M/58.8M [00:00<00:00, 93.7MB/s]\n",
            "100% 58.8M/58.8M [00:00<00:00, 108MB/s] \n"
          ]
        }
      ],
      "source": [
        "! pip install -q kaggle\n",
        "\n",
        "! mkdir ~/.kaggle\n",
        "! cp kaggle.json ~/.kaggle/\n",
        "! chmod 600 ~/.kaggle/kaggle.json\n",
        "#! kaggle datasets list\n",
        "\n",
        "! kaggle datasets download -d dmitrynikolaev/youtube-dislikes-dataset"
      ]
    },
    {
      "cell_type": "code",
      "execution_count": 3,
      "metadata": {
        "id": "pBwfPoKhBSgk",
        "colab": {
          "base_uri": "https://localhost:8080/"
        },
        "outputId": "d618715e-dae2-4abe-aee7-f7275838c778"
      },
      "outputs": [
        {
          "output_type": "stream",
          "name": "stdout",
          "text": [
            "Archive:  youtube-dislikes-dataset.zip\n",
            "  inflating: video_IDs/unique_ids_CA.txt  \n",
            "  inflating: video_IDs/unique_ids_GB.txt  \n",
            "  inflating: video_IDs/unique_ids_GB_CA_US.txt  \n",
            "  inflating: video_IDs/unique_ids_US.txt  \n",
            "  inflating: video_IDs/unique_ids_from_kaggle.txt  \n",
            "  inflating: youtube_dislike_dataset.csv  \n"
          ]
        }
      ],
      "source": [
        "! unzip youtube-dislikes-dataset.zip"
      ]
    },
    {
      "cell_type": "code",
      "execution_count": 4,
      "metadata": {
        "id": "-b6nQwloBYpX"
      },
      "outputs": [],
      "source": [
        "df = pd.read_csv(\"youtube_dislike_dataset.csv\")"
      ]
    },
    {
      "cell_type": "code",
      "execution_count": 5,
      "metadata": {
        "id": "TFqX3ZlFM0vy",
        "colab": {
          "base_uri": "https://localhost:8080/",
          "height": 1000
        },
        "outputId": "537710b1-87b1-48cc-894c-e93bd078e7ac"
      },
      "outputs": [
        {
          "output_type": "execute_result",
          "data": {
            "text/plain": [
              "          video_id                                              title  \\\n",
              "0      --0bCF-iK2E               Jadon Sancho  Magical Skills & Goals   \n",
              "1      --14w5SOEUs                 Migos - Avalanche (Official Video)   \n",
              "2      --40TEbZ9Is         Supporting Actress in a Comedy: 73rd Emmys   \n",
              "3      --4tfbSyYDE            JO1'YOUNG (JO1 ver.)' PERFORMANCE VIDEO   \n",
              "4      --DKkzWVh-E                       Why Retaining Walls Collapse   \n",
              "...            ...                                                ...   \n",
              "37417  zzd4ydafGR0  Lil Tjay - Calling My Phone (feat. 6LACK) [Off...   \n",
              "37418  zziBybeSAtw  PELICANS at LAKERS | FULL GAME HIGHLIGHTS | Ja...   \n",
              "37419  zzk09ESX7e0                 [MV]  (MAMAMOO) - Where Are We Now   \n",
              "37420  zzmQEb0Em5I              FELLIPE ESCUDERO- Master Podcast  #12   \n",
              "37421  zzxPZwaA-8w  Gareth Bale brace secures dramatic comeback on...   \n",
              "\n",
              "                     channel_id          channel_title         published_at  \\\n",
              "0      UC6UL29enLNe4mqwTfAyeNuw             Bundesliga  2021-07-01 10:00:00   \n",
              "1      UCGIelM2Dj3zza3xyV3pL3WQ              MigosVEVO  2021-06-10 16:00:00   \n",
              "2      UClBKH8yZRcM4AsRjDVEdjMg     Television Academy  2021-09-20 01:03:32   \n",
              "3      UCsmXiDP8S40uBeJYxvyulmA                    JO1  2021-03-03 10:00:17   \n",
              "4      UCMOqf8ab-42UUQIdVoKwjlQ  Practical Engineering  2021-12-07 13:00:00   \n",
              "...                         ...                    ...                  ...   \n",
              "37417  UCEB4a5o_6KfjxHwNMnmj54Q               Lil Tjay  2021-02-12 05:03:49   \n",
              "37418  UCWJ2lWNubArHWmf3FIHbfcQ                    NBA  2021-01-16 05:39:05   \n",
              "37419  UCuhAUMLzJxlP1W7mEk0_6lA                MAMAMOO  2021-06-02 09:00:10   \n",
              "37420  UC8NjnNWMsRqq11NYvHAQb1g         Master Podcast  2020-10-20 20:59:30   \n",
              "37421  UCEg25rdRZXg32iwai6N6l0w      Tottenham Hotspur  2021-05-23 21:00:31   \n",
              "\n",
              "       view_count    likes  dislikes  comment_count  \\\n",
              "0         1048888    19515       226           1319   \n",
              "1        15352638   359277      7479          18729   \n",
              "2          925281    11212       401            831   \n",
              "3         2641597    39131       441           3745   \n",
              "4          715724    32887       367           1067   \n",
              "...           ...      ...       ...            ...   \n",
              "37417   120408275  2180780     35871          81360   \n",
              "37418     2841917    20759      1049           2624   \n",
              "37419    13346678   720854      4426          90616   \n",
              "37420      252057    19198      1234           1471   \n",
              "37421     2252090    34063       868           2004   \n",
              "\n",
              "                                                    tags  \\\n",
              "0      football soccer ftbol alemn Bundesliga season ...   \n",
              "1      Migos Avalanche Quality Control Music/Motown R...   \n",
              "2                                                          \n",
              "3      PRODUCE101JAPAN              JO1   TheSTAR STA...   \n",
              "4      retaining wall New Jersey highway Direct Conne...   \n",
              "...                                                  ...   \n",
              "37417  Lil Tjay Steady Calling My Phone Calling My Ph...   \n",
              "37418  NBA G League Basketball game-0022000187 Lakers...   \n",
              "37419  MAMAMOO  WAW  WAW MAMAMOO WAW Where Are We Now...   \n",
              "37420  master masterpodcast lord lord vinheteiro z z ...   \n",
              "37421  Spurs Tottenham Hotspur   Tottenham Leicester ...   \n",
              "\n",
              "                                             description  \\\n",
              "0      Enjoy the best skills and goals from Jadon San...   \n",
              "1      Watch the the official video for Migos - \"Aval...   \n",
              "2      Hannah Waddingham wins the Emmy for Supporting...   \n",
              "3      JO1'YOUNG (JO1 ver.)' PERFORMANCE VIDEO\\n\\n---...   \n",
              "4      One of the most important (and innocuous) part...   \n",
              "...                                                  ...   \n",
              "37417  Official video for \"Calling My Phone\" by Lil T...   \n",
              "37418  PELICANS at LAKERS | FULL GAME HIGHLIGHTS | Ja...   \n",
              "37419  [MV]  (MAMAMOO) - Where Are We Now\\n\\nInstagra...   \n",
              "37420  DOCTOR HAIR\\nhttps://www.thedoctorhair.com/?fb...   \n",
              "37421  Two minute highlights from Tottenham Hotspur's...   \n",
              "\n",
              "                                                comments  \n",
              "0      Respect to Dortmund fans,must be sad losing hi...  \n",
              "1      Migos just makes me want to live my live to th...  \n",
              "2      Hannah's energy bursts through any screen. Wel...  \n",
              "3      youngVer><  REN is really PERFECT. It's not ju...  \n",
              "4       Keep up with all my projects here: https://pr...  \n",
              "...                                                  ...  \n",
              "37417  'DESTINED 2 WIN' OUT NOW !! https://liltjay.ln...  \n",
              "37418  Montrezl Harrell is going crazy with the rebou...  \n",
              "37419  I honestly do not know why this song hit so ha...  \n",
              "37420  Foi um prazer passar esta tarde com vocs debat...  \n",
              "37421  Thank you Kane for everything you have given t...  \n",
              "\n",
              "[37422 rows x 12 columns]"
            ],
            "text/html": [
              "\n",
              "  <div id=\"df-52bb4aca-2c27-4f59-96e4-ce3efd57bf78\">\n",
              "    <div class=\"colab-df-container\">\n",
              "      <div>\n",
              "<style scoped>\n",
              "    .dataframe tbody tr th:only-of-type {\n",
              "        vertical-align: middle;\n",
              "    }\n",
              "\n",
              "    .dataframe tbody tr th {\n",
              "        vertical-align: top;\n",
              "    }\n",
              "\n",
              "    .dataframe thead th {\n",
              "        text-align: right;\n",
              "    }\n",
              "</style>\n",
              "<table border=\"1\" class=\"dataframe\">\n",
              "  <thead>\n",
              "    <tr style=\"text-align: right;\">\n",
              "      <th></th>\n",
              "      <th>video_id</th>\n",
              "      <th>title</th>\n",
              "      <th>channel_id</th>\n",
              "      <th>channel_title</th>\n",
              "      <th>published_at</th>\n",
              "      <th>view_count</th>\n",
              "      <th>likes</th>\n",
              "      <th>dislikes</th>\n",
              "      <th>comment_count</th>\n",
              "      <th>tags</th>\n",
              "      <th>description</th>\n",
              "      <th>comments</th>\n",
              "    </tr>\n",
              "  </thead>\n",
              "  <tbody>\n",
              "    <tr>\n",
              "      <th>0</th>\n",
              "      <td>--0bCF-iK2E</td>\n",
              "      <td>Jadon Sancho  Magical Skills &amp; Goals</td>\n",
              "      <td>UC6UL29enLNe4mqwTfAyeNuw</td>\n",
              "      <td>Bundesliga</td>\n",
              "      <td>2021-07-01 10:00:00</td>\n",
              "      <td>1048888</td>\n",
              "      <td>19515</td>\n",
              "      <td>226</td>\n",
              "      <td>1319</td>\n",
              "      <td>football soccer ftbol alemn Bundesliga season ...</td>\n",
              "      <td>Enjoy the best skills and goals from Jadon San...</td>\n",
              "      <td>Respect to Dortmund fans,must be sad losing hi...</td>\n",
              "    </tr>\n",
              "    <tr>\n",
              "      <th>1</th>\n",
              "      <td>--14w5SOEUs</td>\n",
              "      <td>Migos - Avalanche (Official Video)</td>\n",
              "      <td>UCGIelM2Dj3zza3xyV3pL3WQ</td>\n",
              "      <td>MigosVEVO</td>\n",
              "      <td>2021-06-10 16:00:00</td>\n",
              "      <td>15352638</td>\n",
              "      <td>359277</td>\n",
              "      <td>7479</td>\n",
              "      <td>18729</td>\n",
              "      <td>Migos Avalanche Quality Control Music/Motown R...</td>\n",
              "      <td>Watch the the official video for Migos - \"Aval...</td>\n",
              "      <td>Migos just makes me want to live my live to th...</td>\n",
              "    </tr>\n",
              "    <tr>\n",
              "      <th>2</th>\n",
              "      <td>--40TEbZ9Is</td>\n",
              "      <td>Supporting Actress in a Comedy: 73rd Emmys</td>\n",
              "      <td>UClBKH8yZRcM4AsRjDVEdjMg</td>\n",
              "      <td>Television Academy</td>\n",
              "      <td>2021-09-20 01:03:32</td>\n",
              "      <td>925281</td>\n",
              "      <td>11212</td>\n",
              "      <td>401</td>\n",
              "      <td>831</td>\n",
              "      <td></td>\n",
              "      <td>Hannah Waddingham wins the Emmy for Supporting...</td>\n",
              "      <td>Hannah's energy bursts through any screen. Wel...</td>\n",
              "    </tr>\n",
              "    <tr>\n",
              "      <th>3</th>\n",
              "      <td>--4tfbSyYDE</td>\n",
              "      <td>JO1'YOUNG (JO1 ver.)' PERFORMANCE VIDEO</td>\n",
              "      <td>UCsmXiDP8S40uBeJYxvyulmA</td>\n",
              "      <td>JO1</td>\n",
              "      <td>2021-03-03 10:00:17</td>\n",
              "      <td>2641597</td>\n",
              "      <td>39131</td>\n",
              "      <td>441</td>\n",
              "      <td>3745</td>\n",
              "      <td>PRODUCE101JAPAN              JO1   TheSTAR STA...</td>\n",
              "      <td>JO1'YOUNG (JO1 ver.)' PERFORMANCE VIDEO\\n\\n---...</td>\n",
              "      <td>youngVer&gt;&lt;  REN is really PERFECT. It's not ju...</td>\n",
              "    </tr>\n",
              "    <tr>\n",
              "      <th>4</th>\n",
              "      <td>--DKkzWVh-E</td>\n",
              "      <td>Why Retaining Walls Collapse</td>\n",
              "      <td>UCMOqf8ab-42UUQIdVoKwjlQ</td>\n",
              "      <td>Practical Engineering</td>\n",
              "      <td>2021-12-07 13:00:00</td>\n",
              "      <td>715724</td>\n",
              "      <td>32887</td>\n",
              "      <td>367</td>\n",
              "      <td>1067</td>\n",
              "      <td>retaining wall New Jersey highway Direct Conne...</td>\n",
              "      <td>One of the most important (and innocuous) part...</td>\n",
              "      <td>Keep up with all my projects here: https://pr...</td>\n",
              "    </tr>\n",
              "    <tr>\n",
              "      <th>...</th>\n",
              "      <td>...</td>\n",
              "      <td>...</td>\n",
              "      <td>...</td>\n",
              "      <td>...</td>\n",
              "      <td>...</td>\n",
              "      <td>...</td>\n",
              "      <td>...</td>\n",
              "      <td>...</td>\n",
              "      <td>...</td>\n",
              "      <td>...</td>\n",
              "      <td>...</td>\n",
              "      <td>...</td>\n",
              "    </tr>\n",
              "    <tr>\n",
              "      <th>37417</th>\n",
              "      <td>zzd4ydafGR0</td>\n",
              "      <td>Lil Tjay - Calling My Phone (feat. 6LACK) [Off...</td>\n",
              "      <td>UCEB4a5o_6KfjxHwNMnmj54Q</td>\n",
              "      <td>Lil Tjay</td>\n",
              "      <td>2021-02-12 05:03:49</td>\n",
              "      <td>120408275</td>\n",
              "      <td>2180780</td>\n",
              "      <td>35871</td>\n",
              "      <td>81360</td>\n",
              "      <td>Lil Tjay Steady Calling My Phone Calling My Ph...</td>\n",
              "      <td>Official video for \"Calling My Phone\" by Lil T...</td>\n",
              "      <td>'DESTINED 2 WIN' OUT NOW !! https://liltjay.ln...</td>\n",
              "    </tr>\n",
              "    <tr>\n",
              "      <th>37418</th>\n",
              "      <td>zziBybeSAtw</td>\n",
              "      <td>PELICANS at LAKERS | FULL GAME HIGHLIGHTS | Ja...</td>\n",
              "      <td>UCWJ2lWNubArHWmf3FIHbfcQ</td>\n",
              "      <td>NBA</td>\n",
              "      <td>2021-01-16 05:39:05</td>\n",
              "      <td>2841917</td>\n",
              "      <td>20759</td>\n",
              "      <td>1049</td>\n",
              "      <td>2624</td>\n",
              "      <td>NBA G League Basketball game-0022000187 Lakers...</td>\n",
              "      <td>PELICANS at LAKERS | FULL GAME HIGHLIGHTS | Ja...</td>\n",
              "      <td>Montrezl Harrell is going crazy with the rebou...</td>\n",
              "    </tr>\n",
              "    <tr>\n",
              "      <th>37419</th>\n",
              "      <td>zzk09ESX7e0</td>\n",
              "      <td>[MV]  (MAMAMOO) - Where Are We Now</td>\n",
              "      <td>UCuhAUMLzJxlP1W7mEk0_6lA</td>\n",
              "      <td>MAMAMOO</td>\n",
              "      <td>2021-06-02 09:00:10</td>\n",
              "      <td>13346678</td>\n",
              "      <td>720854</td>\n",
              "      <td>4426</td>\n",
              "      <td>90616</td>\n",
              "      <td>MAMAMOO  WAW  WAW MAMAMOO WAW Where Are We Now...</td>\n",
              "      <td>[MV]  (MAMAMOO) - Where Are We Now\\n\\nInstagra...</td>\n",
              "      <td>I honestly do not know why this song hit so ha...</td>\n",
              "    </tr>\n",
              "    <tr>\n",
              "      <th>37420</th>\n",
              "      <td>zzmQEb0Em5I</td>\n",
              "      <td>FELLIPE ESCUDERO- Master Podcast  #12</td>\n",
              "      <td>UC8NjnNWMsRqq11NYvHAQb1g</td>\n",
              "      <td>Master Podcast</td>\n",
              "      <td>2020-10-20 20:59:30</td>\n",
              "      <td>252057</td>\n",
              "      <td>19198</td>\n",
              "      <td>1234</td>\n",
              "      <td>1471</td>\n",
              "      <td>master masterpodcast lord lord vinheteiro z z ...</td>\n",
              "      <td>DOCTOR HAIR\\nhttps://www.thedoctorhair.com/?fb...</td>\n",
              "      <td>Foi um prazer passar esta tarde com vocs debat...</td>\n",
              "    </tr>\n",
              "    <tr>\n",
              "      <th>37421</th>\n",
              "      <td>zzxPZwaA-8w</td>\n",
              "      <td>Gareth Bale brace secures dramatic comeback on...</td>\n",
              "      <td>UCEg25rdRZXg32iwai6N6l0w</td>\n",
              "      <td>Tottenham Hotspur</td>\n",
              "      <td>2021-05-23 21:00:31</td>\n",
              "      <td>2252090</td>\n",
              "      <td>34063</td>\n",
              "      <td>868</td>\n",
              "      <td>2004</td>\n",
              "      <td>Spurs Tottenham Hotspur   Tottenham Leicester ...</td>\n",
              "      <td>Two minute highlights from Tottenham Hotspur's...</td>\n",
              "      <td>Thank you Kane for everything you have given t...</td>\n",
              "    </tr>\n",
              "  </tbody>\n",
              "</table>\n",
              "<p>37422 rows × 12 columns</p>\n",
              "</div>\n",
              "      <button class=\"colab-df-convert\" onclick=\"convertToInteractive('df-52bb4aca-2c27-4f59-96e4-ce3efd57bf78')\"\n",
              "              title=\"Convert this dataframe to an interactive table.\"\n",
              "              style=\"display:none;\">\n",
              "        \n",
              "  <svg xmlns=\"http://www.w3.org/2000/svg\" height=\"24px\"viewBox=\"0 0 24 24\"\n",
              "       width=\"24px\">\n",
              "    <path d=\"M0 0h24v24H0V0z\" fill=\"none\"/>\n",
              "    <path d=\"M18.56 5.44l.94 2.06.94-2.06 2.06-.94-2.06-.94-.94-2.06-.94 2.06-2.06.94zm-11 1L8.5 8.5l.94-2.06 2.06-.94-2.06-.94L8.5 2.5l-.94 2.06-2.06.94zm10 10l.94 2.06.94-2.06 2.06-.94-2.06-.94-.94-2.06-.94 2.06-2.06.94z\"/><path d=\"M17.41 7.96l-1.37-1.37c-.4-.4-.92-.59-1.43-.59-.52 0-1.04.2-1.43.59L10.3 9.45l-7.72 7.72c-.78.78-.78 2.05 0 2.83L4 21.41c.39.39.9.59 1.41.59.51 0 1.02-.2 1.41-.59l7.78-7.78 2.81-2.81c.8-.78.8-2.07 0-2.86zM5.41 20L4 18.59l7.72-7.72 1.47 1.35L5.41 20z\"/>\n",
              "  </svg>\n",
              "      </button>\n",
              "      \n",
              "  <style>\n",
              "    .colab-df-container {\n",
              "      display:flex;\n",
              "      flex-wrap:wrap;\n",
              "      gap: 12px;\n",
              "    }\n",
              "\n",
              "    .colab-df-convert {\n",
              "      background-color: #E8F0FE;\n",
              "      border: none;\n",
              "      border-radius: 50%;\n",
              "      cursor: pointer;\n",
              "      display: none;\n",
              "      fill: #1967D2;\n",
              "      height: 32px;\n",
              "      padding: 0 0 0 0;\n",
              "      width: 32px;\n",
              "    }\n",
              "\n",
              "    .colab-df-convert:hover {\n",
              "      background-color: #E2EBFA;\n",
              "      box-shadow: 0px 1px 2px rgba(60, 64, 67, 0.3), 0px 1px 3px 1px rgba(60, 64, 67, 0.15);\n",
              "      fill: #174EA6;\n",
              "    }\n",
              "\n",
              "    [theme=dark] .colab-df-convert {\n",
              "      background-color: #3B4455;\n",
              "      fill: #D2E3FC;\n",
              "    }\n",
              "\n",
              "    [theme=dark] .colab-df-convert:hover {\n",
              "      background-color: #434B5C;\n",
              "      box-shadow: 0px 1px 3px 1px rgba(0, 0, 0, 0.15);\n",
              "      filter: drop-shadow(0px 1px 2px rgba(0, 0, 0, 0.3));\n",
              "      fill: #FFFFFF;\n",
              "    }\n",
              "  </style>\n",
              "\n",
              "      <script>\n",
              "        const buttonEl =\n",
              "          document.querySelector('#df-52bb4aca-2c27-4f59-96e4-ce3efd57bf78 button.colab-df-convert');\n",
              "        buttonEl.style.display =\n",
              "          google.colab.kernel.accessAllowed ? 'block' : 'none';\n",
              "\n",
              "        async function convertToInteractive(key) {\n",
              "          const element = document.querySelector('#df-52bb4aca-2c27-4f59-96e4-ce3efd57bf78');\n",
              "          const dataTable =\n",
              "            await google.colab.kernel.invokeFunction('convertToInteractive',\n",
              "                                                     [key], {});\n",
              "          if (!dataTable) return;\n",
              "\n",
              "          const docLinkHtml = 'Like what you see? Visit the ' +\n",
              "            '<a target=\"_blank\" href=https://colab.research.google.com/notebooks/data_table.ipynb>data table notebook</a>'\n",
              "            + ' to learn more about interactive tables.';\n",
              "          element.innerHTML = '';\n",
              "          dataTable['output_type'] = 'display_data';\n",
              "          await google.colab.output.renderOutput(dataTable, element);\n",
              "          const docLink = document.createElement('div');\n",
              "          docLink.innerHTML = docLinkHtml;\n",
              "          element.appendChild(docLink);\n",
              "        }\n",
              "      </script>\n",
              "    </div>\n",
              "  </div>\n",
              "  "
            ]
          },
          "metadata": {},
          "execution_count": 5
        }
      ],
      "source": [
        "df\n"
      ]
    },
    {
      "cell_type": "markdown",
      "metadata": {
        "id": "A-YCumn7_Ffl"
      },
      "source": [
        "**Installing necessary packages:**"
      ]
    },
    {
      "cell_type": "code",
      "execution_count": 8,
      "metadata": {
        "colab": {
          "base_uri": "https://localhost:8080/"
        },
        "id": "s72vsWEVqM6l",
        "outputId": "c8927bcc-dc38-491e-ecc0-d93942dc9c53"
      },
      "outputs": [
        {
          "output_type": "stream",
          "name": "stdout",
          "text": [
            "Collecting texthero\n",
            "  Using cached texthero-1.1.0-py3-none-any.whl (24 kB)\n",
            "Requirement already satisfied: tqdm>=4.3 in /usr/local/lib/python3.7/dist-packages (from texthero) (4.63.0)\n",
            "Requirement already satisfied: spacy<3.0.0 in /usr/local/lib/python3.7/dist-packages (from texthero) (2.2.4)\n",
            "Collecting nltk>=3.3\n",
            "  Using cached nltk-3.7-py3-none-any.whl (1.5 MB)\n",
            "Collecting unidecode>=1.1.1\n",
            "  Using cached Unidecode-1.3.4-py3-none-any.whl (235 kB)\n",
            "Requirement already satisfied: numpy>=1.17 in /usr/local/lib/python3.7/dist-packages (from texthero) (1.21.5)\n",
            "Requirement already satisfied: gensim<4.0,>=3.6.0 in /usr/local/lib/python3.7/dist-packages (from texthero) (3.6.0)\n",
            "Requirement already satisfied: wordcloud>=1.5.0 in /usr/local/lib/python3.7/dist-packages (from texthero) (1.5.0)\n",
            "Requirement already satisfied: pandas>=1.0.2 in /usr/local/lib/python3.7/dist-packages (from texthero) (1.3.5)\n",
            "Requirement already satisfied: matplotlib>=3.1.0 in /usr/local/lib/python3.7/dist-packages (from texthero) (3.2.2)\n",
            "Requirement already satisfied: plotly>=4.2.0 in /usr/local/lib/python3.7/dist-packages (from texthero) (5.5.0)\n",
            "Requirement already satisfied: scikit-learn>=0.22 in /usr/local/lib/python3.7/dist-packages (from texthero) (1.0.2)\n",
            "Requirement already satisfied: smart-open>=1.2.1 in /usr/local/lib/python3.7/dist-packages (from gensim<4.0,>=3.6.0->texthero) (5.2.1)\n",
            "Requirement already satisfied: six>=1.5.0 in /usr/local/lib/python3.7/dist-packages (from gensim<4.0,>=3.6.0->texthero) (1.15.0)\n",
            "Requirement already satisfied: scipy>=0.18.1 in /usr/local/lib/python3.7/dist-packages (from gensim<4.0,>=3.6.0->texthero) (1.4.1)\n",
            "Requirement already satisfied: kiwisolver>=1.0.1 in /usr/local/lib/python3.7/dist-packages (from matplotlib>=3.1.0->texthero) (1.4.0)\n",
            "Requirement already satisfied: cycler>=0.10 in /usr/local/lib/python3.7/dist-packages (from matplotlib>=3.1.0->texthero) (0.11.0)\n",
            "Requirement already satisfied: pyparsing!=2.0.4,!=2.1.2,!=2.1.6,>=2.0.1 in /usr/local/lib/python3.7/dist-packages (from matplotlib>=3.1.0->texthero) (3.0.7)\n",
            "Requirement already satisfied: python-dateutil>=2.1 in /usr/local/lib/python3.7/dist-packages (from matplotlib>=3.1.0->texthero) (2.8.2)\n",
            "Requirement already satisfied: typing-extensions in /usr/local/lib/python3.7/dist-packages (from kiwisolver>=1.0.1->matplotlib>=3.1.0->texthero) (3.10.0.2)\n",
            "Collecting regex>=2021.8.3\n",
            "  Using cached regex-2022.3.15-cp37-cp37m-manylinux_2_17_x86_64.manylinux2014_x86_64.whl (749 kB)\n",
            "Requirement already satisfied: click in /usr/local/lib/python3.7/dist-packages (from nltk>=3.3->texthero) (7.1.2)\n",
            "Requirement already satisfied: joblib in /usr/local/lib/python3.7/dist-packages (from nltk>=3.3->texthero) (1.1.0)\n",
            "Requirement already satisfied: pytz>=2017.3 in /usr/local/lib/python3.7/dist-packages (from pandas>=1.0.2->texthero) (2018.9)\n",
            "Requirement already satisfied: tenacity>=6.2.0 in /usr/local/lib/python3.7/dist-packages (from plotly>=4.2.0->texthero) (8.0.1)\n",
            "Requirement already satisfied: threadpoolctl>=2.0.0 in /usr/local/lib/python3.7/dist-packages (from scikit-learn>=0.22->texthero) (3.1.0)\n",
            "Requirement already satisfied: preshed<3.1.0,>=3.0.2 in /usr/local/lib/python3.7/dist-packages (from spacy<3.0.0->texthero) (3.0.6)\n",
            "Requirement already satisfied: catalogue<1.1.0,>=0.0.7 in /usr/local/lib/python3.7/dist-packages (from spacy<3.0.0->texthero) (1.0.0)\n",
            "Requirement already satisfied: thinc==7.4.0 in /usr/local/lib/python3.7/dist-packages (from spacy<3.0.0->texthero) (7.4.0)\n",
            "Requirement already satisfied: requests<3.0.0,>=2.13.0 in /usr/local/lib/python3.7/dist-packages (from spacy<3.0.0->texthero) (2.23.0)\n",
            "Requirement already satisfied: blis<0.5.0,>=0.4.0 in /usr/local/lib/python3.7/dist-packages (from spacy<3.0.0->texthero) (0.4.1)\n",
            "Requirement already satisfied: wasabi<1.1.0,>=0.4.0 in /usr/local/lib/python3.7/dist-packages (from spacy<3.0.0->texthero) (0.9.0)\n",
            "Requirement already satisfied: srsly<1.1.0,>=1.0.2 in /usr/local/lib/python3.7/dist-packages (from spacy<3.0.0->texthero) (1.0.5)\n",
            "Requirement already satisfied: setuptools in /usr/local/lib/python3.7/dist-packages (from spacy<3.0.0->texthero) (57.4.0)\n",
            "Requirement already satisfied: cymem<2.1.0,>=2.0.2 in /usr/local/lib/python3.7/dist-packages (from spacy<3.0.0->texthero) (2.0.6)\n",
            "Requirement already satisfied: murmurhash<1.1.0,>=0.28.0 in /usr/local/lib/python3.7/dist-packages (from spacy<3.0.0->texthero) (1.0.6)\n",
            "Requirement already satisfied: plac<1.2.0,>=0.9.6 in /usr/local/lib/python3.7/dist-packages (from spacy<3.0.0->texthero) (1.1.3)\n",
            "Requirement already satisfied: importlib-metadata>=0.20 in /usr/local/lib/python3.7/dist-packages (from catalogue<1.1.0,>=0.0.7->spacy<3.0.0->texthero) (4.11.3)\n",
            "Requirement already satisfied: zipp>=0.5 in /usr/local/lib/python3.7/dist-packages (from importlib-metadata>=0.20->catalogue<1.1.0,>=0.0.7->spacy<3.0.0->texthero) (3.7.0)\n",
            "Requirement already satisfied: certifi>=2017.4.17 in /usr/local/lib/python3.7/dist-packages (from requests<3.0.0,>=2.13.0->spacy<3.0.0->texthero) (2021.10.8)\n",
            "Requirement already satisfied: chardet<4,>=3.0.2 in /usr/local/lib/python3.7/dist-packages (from requests<3.0.0,>=2.13.0->spacy<3.0.0->texthero) (3.0.4)\n",
            "Requirement already satisfied: urllib3!=1.25.0,!=1.25.1,<1.26,>=1.21.1 in /usr/local/lib/python3.7/dist-packages (from requests<3.0.0,>=2.13.0->spacy<3.0.0->texthero) (1.24.3)\n",
            "Requirement already satisfied: idna<3,>=2.5 in /usr/local/lib/python3.7/dist-packages (from requests<3.0.0,>=2.13.0->spacy<3.0.0->texthero) (2.10)\n",
            "Requirement already satisfied: pillow in /usr/local/lib/python3.7/dist-packages (from wordcloud>=1.5.0->texthero) (7.1.2)\n",
            "Installing collected packages: regex, unidecode, nltk, texthero\n",
            "  Attempting uninstall: regex\n",
            "    Found existing installation: regex 2019.12.20\n",
            "    Uninstalling regex-2019.12.20:\n",
            "      Successfully uninstalled regex-2019.12.20\n",
            "  Attempting uninstall: nltk\n",
            "    Found existing installation: nltk 3.2.5\n",
            "    Uninstalling nltk-3.2.5:\n",
            "      Successfully uninstalled nltk-3.2.5\n",
            "Successfully installed nltk-3.7 regex-2022.3.15 texthero-1.1.0 unidecode-1.3.4\n",
            "Collecting catboost\n",
            "  Downloading catboost-1.0.4-cp37-none-manylinux1_x86_64.whl (76.1 MB)\n",
            "\u001b[K     |████████████████████████████████| 76.1 MB 54 kB/s \n",
            "\u001b[?25hRequirement already satisfied: matplotlib in /usr/local/lib/python3.7/dist-packages (from catboost) (3.2.2)\n",
            "Requirement already satisfied: pandas>=0.24.0 in /usr/local/lib/python3.7/dist-packages (from catboost) (1.3.5)\n",
            "Requirement already satisfied: plotly in /usr/local/lib/python3.7/dist-packages (from catboost) (5.5.0)\n",
            "Requirement already satisfied: numpy>=1.16.0 in /usr/local/lib/python3.7/dist-packages (from catboost) (1.21.5)\n",
            "Requirement already satisfied: graphviz in /usr/local/lib/python3.7/dist-packages (from catboost) (0.10.1)\n",
            "Requirement already satisfied: scipy in /usr/local/lib/python3.7/dist-packages (from catboost) (1.4.1)\n",
            "Requirement already satisfied: six in /usr/local/lib/python3.7/dist-packages (from catboost) (1.15.0)\n",
            "Requirement already satisfied: python-dateutil>=2.7.3 in /usr/local/lib/python3.7/dist-packages (from pandas>=0.24.0->catboost) (2.8.2)\n",
            "Requirement already satisfied: pytz>=2017.3 in /usr/local/lib/python3.7/dist-packages (from pandas>=0.24.0->catboost) (2018.9)\n",
            "Requirement already satisfied: kiwisolver>=1.0.1 in /usr/local/lib/python3.7/dist-packages (from matplotlib->catboost) (1.4.0)\n",
            "Requirement already satisfied: cycler>=0.10 in /usr/local/lib/python3.7/dist-packages (from matplotlib->catboost) (0.11.0)\n",
            "Requirement already satisfied: pyparsing!=2.0.4,!=2.1.2,!=2.1.6,>=2.0.1 in /usr/local/lib/python3.7/dist-packages (from matplotlib->catboost) (3.0.7)\n",
            "Requirement already satisfied: typing-extensions in /usr/local/lib/python3.7/dist-packages (from kiwisolver>=1.0.1->matplotlib->catboost) (3.10.0.2)\n",
            "Requirement already satisfied: tenacity>=6.2.0 in /usr/local/lib/python3.7/dist-packages (from plotly->catboost) (8.0.1)\n",
            "Installing collected packages: catboost\n",
            "Successfully installed catboost-1.0.4\n",
            "Collecting shap\n",
            "  Downloading shap-0.40.0-cp37-cp37m-manylinux2010_x86_64.whl (564 kB)\n",
            "\u001b[K     |████████████████████████████████| 564 kB 5.0 MB/s \n",
            "\u001b[?25hRequirement already satisfied: numpy in /usr/local/lib/python3.7/dist-packages (from shap) (1.21.5)\n",
            "Requirement already satisfied: scikit-learn in /usr/local/lib/python3.7/dist-packages (from shap) (1.0.2)\n",
            "Collecting slicer==0.0.7\n",
            "  Downloading slicer-0.0.7-py3-none-any.whl (14 kB)\n",
            "Requirement already satisfied: pandas in /usr/local/lib/python3.7/dist-packages (from shap) (1.3.5)\n",
            "Requirement already satisfied: packaging>20.9 in /usr/local/lib/python3.7/dist-packages (from shap) (21.3)\n",
            "Requirement already satisfied: scipy in /usr/local/lib/python3.7/dist-packages (from shap) (1.4.1)\n",
            "Requirement already satisfied: tqdm>4.25.0 in /usr/local/lib/python3.7/dist-packages (from shap) (4.63.0)\n",
            "Requirement already satisfied: numba in /usr/local/lib/python3.7/dist-packages (from shap) (0.51.2)\n",
            "Requirement already satisfied: cloudpickle in /usr/local/lib/python3.7/dist-packages (from shap) (1.3.0)\n",
            "Requirement already satisfied: pyparsing!=3.0.5,>=2.0.2 in /usr/local/lib/python3.7/dist-packages (from packaging>20.9->shap) (3.0.7)\n",
            "Requirement already satisfied: llvmlite<0.35,>=0.34.0.dev0 in /usr/local/lib/python3.7/dist-packages (from numba->shap) (0.34.0)\n",
            "Requirement already satisfied: setuptools in /usr/local/lib/python3.7/dist-packages (from numba->shap) (57.4.0)\n",
            "Requirement already satisfied: pytz>=2017.3 in /usr/local/lib/python3.7/dist-packages (from pandas->shap) (2018.9)\n",
            "Requirement already satisfied: python-dateutil>=2.7.3 in /usr/local/lib/python3.7/dist-packages (from pandas->shap) (2.8.2)\n",
            "Requirement already satisfied: six>=1.5 in /usr/local/lib/python3.7/dist-packages (from python-dateutil>=2.7.3->pandas->shap) (1.15.0)\n",
            "Requirement already satisfied: joblib>=0.11 in /usr/local/lib/python3.7/dist-packages (from scikit-learn->shap) (1.1.0)\n",
            "Requirement already satisfied: threadpoolctl>=2.0.0 in /usr/local/lib/python3.7/dist-packages (from scikit-learn->shap) (3.1.0)\n",
            "Installing collected packages: slicer, shap\n",
            "Successfully installed shap-0.40.0 slicer-0.0.7\n"
          ]
        }
      ],
      "source": [
        "!pip install texthero\n",
        "!pip install catboost\n",
        "!pip install shap"
      ]
    },
    {
      "cell_type": "markdown",
      "metadata": {
        "id": "yqn6TBwTuNYe"
      },
      "source": [
        "**Cleaning texts:**"
      ]
    },
    {
      "cell_type": "code",
      "execution_count": 9,
      "metadata": {
        "colab": {
          "base_uri": "https://localhost:8080/",
          "height": 458
        },
        "id": "Brc9ZMW0c_Es",
        "outputId": "ad40de7e-66ee-4f9a-9782-c729466c2a90"
      },
      "outputs": [
        {
          "output_type": "stream",
          "name": "stderr",
          "text": [
            "[nltk_data] Downloading package stopwords to /root/nltk_data...\n",
            "[nltk_data]   Unzipping corpora/stopwords.zip.\n"
          ]
        },
        {
          "output_type": "execute_result",
          "data": {
            "text/plain": [
              "                                                   title  view_count    likes  \\\n",
              "0                      jadon sancho magical skills goals     1048888    19515   \n",
              "1                         migos avalanche official video    15352638   359277   \n",
              "2                   supporting actress comedy 73rd emmys      925281    11212   \n",
              "3                    jo1 young jo1 ver performance video     2641597    39131   \n",
              "4                               retaining walls collapse      715724    32887   \n",
              "...                                                  ...         ...      ...   \n",
              "37417   lil tjay calling phone feat 6lack official video   120408275  2180780   \n",
              "37418       pelicans lakers full game highlights january     2841917    20759   \n",
              "37419                                         mv mamamoo    13346678   720854   \n",
              "37420                    fellipe escudero master podcast      252057    19198   \n",
              "37421  gareth bale brace secures dramatic comeback fi...     2252090    34063   \n",
              "\n",
              "       dislikes  comment_count  \\\n",
              "0           226           1319   \n",
              "1          7479          18729   \n",
              "2           401            831   \n",
              "3           441           3745   \n",
              "4           367           1067   \n",
              "...         ...            ...   \n",
              "37417     35871          81360   \n",
              "37418      1049           2624   \n",
              "37419      4426          90616   \n",
              "37420      1234           1471   \n",
              "37421       868           2004   \n",
              "\n",
              "                                                    tags  \n",
              "0      football soccer ftbol alemn bundesliga season ...  \n",
              "1      migos avalanche quality control music motown r...  \n",
              "2                                                         \n",
              "3      produce101japan jo1 thestar stargazer protosta...  \n",
              "4      retaining wall new jersey highway direct conne...  \n",
              "...                                                  ...  \n",
              "37417  lil tjay steady calling phone calling phone ti...  \n",
              "37418  nba g league basketball game lakers pelicans p...  \n",
              "37419              mamamoo waw waw mamamoo waw wawn wawn  \n",
              "37420  master masterpodcast lord lord vinheteiro z z ...  \n",
              "37421  spurs tottenham hotspur tottenham leicester sp...  \n",
              "\n",
              "[37422 rows x 6 columns]"
            ],
            "text/html": [
              "\n",
              "  <div id=\"df-2c054c6f-b78a-49d0-9bda-4fda6a5a1168\">\n",
              "    <div class=\"colab-df-container\">\n",
              "      <div>\n",
              "<style scoped>\n",
              "    .dataframe tbody tr th:only-of-type {\n",
              "        vertical-align: middle;\n",
              "    }\n",
              "\n",
              "    .dataframe tbody tr th {\n",
              "        vertical-align: top;\n",
              "    }\n",
              "\n",
              "    .dataframe thead th {\n",
              "        text-align: right;\n",
              "    }\n",
              "</style>\n",
              "<table border=\"1\" class=\"dataframe\">\n",
              "  <thead>\n",
              "    <tr style=\"text-align: right;\">\n",
              "      <th></th>\n",
              "      <th>title</th>\n",
              "      <th>view_count</th>\n",
              "      <th>likes</th>\n",
              "      <th>dislikes</th>\n",
              "      <th>comment_count</th>\n",
              "      <th>tags</th>\n",
              "    </tr>\n",
              "  </thead>\n",
              "  <tbody>\n",
              "    <tr>\n",
              "      <th>0</th>\n",
              "      <td>jadon sancho magical skills goals</td>\n",
              "      <td>1048888</td>\n",
              "      <td>19515</td>\n",
              "      <td>226</td>\n",
              "      <td>1319</td>\n",
              "      <td>football soccer ftbol alemn bundesliga season ...</td>\n",
              "    </tr>\n",
              "    <tr>\n",
              "      <th>1</th>\n",
              "      <td>migos avalanche official video</td>\n",
              "      <td>15352638</td>\n",
              "      <td>359277</td>\n",
              "      <td>7479</td>\n",
              "      <td>18729</td>\n",
              "      <td>migos avalanche quality control music motown r...</td>\n",
              "    </tr>\n",
              "    <tr>\n",
              "      <th>2</th>\n",
              "      <td>supporting actress comedy 73rd emmys</td>\n",
              "      <td>925281</td>\n",
              "      <td>11212</td>\n",
              "      <td>401</td>\n",
              "      <td>831</td>\n",
              "      <td></td>\n",
              "    </tr>\n",
              "    <tr>\n",
              "      <th>3</th>\n",
              "      <td>jo1 young jo1 ver performance video</td>\n",
              "      <td>2641597</td>\n",
              "      <td>39131</td>\n",
              "      <td>441</td>\n",
              "      <td>3745</td>\n",
              "      <td>produce101japan jo1 thestar stargazer protosta...</td>\n",
              "    </tr>\n",
              "    <tr>\n",
              "      <th>4</th>\n",
              "      <td>retaining walls collapse</td>\n",
              "      <td>715724</td>\n",
              "      <td>32887</td>\n",
              "      <td>367</td>\n",
              "      <td>1067</td>\n",
              "      <td>retaining wall new jersey highway direct conne...</td>\n",
              "    </tr>\n",
              "    <tr>\n",
              "      <th>...</th>\n",
              "      <td>...</td>\n",
              "      <td>...</td>\n",
              "      <td>...</td>\n",
              "      <td>...</td>\n",
              "      <td>...</td>\n",
              "      <td>...</td>\n",
              "    </tr>\n",
              "    <tr>\n",
              "      <th>37417</th>\n",
              "      <td>lil tjay calling phone feat 6lack official video</td>\n",
              "      <td>120408275</td>\n",
              "      <td>2180780</td>\n",
              "      <td>35871</td>\n",
              "      <td>81360</td>\n",
              "      <td>lil tjay steady calling phone calling phone ti...</td>\n",
              "    </tr>\n",
              "    <tr>\n",
              "      <th>37418</th>\n",
              "      <td>pelicans lakers full game highlights january</td>\n",
              "      <td>2841917</td>\n",
              "      <td>20759</td>\n",
              "      <td>1049</td>\n",
              "      <td>2624</td>\n",
              "      <td>nba g league basketball game lakers pelicans p...</td>\n",
              "    </tr>\n",
              "    <tr>\n",
              "      <th>37419</th>\n",
              "      <td>mv mamamoo</td>\n",
              "      <td>13346678</td>\n",
              "      <td>720854</td>\n",
              "      <td>4426</td>\n",
              "      <td>90616</td>\n",
              "      <td>mamamoo waw waw mamamoo waw wawn wawn</td>\n",
              "    </tr>\n",
              "    <tr>\n",
              "      <th>37420</th>\n",
              "      <td>fellipe escudero master podcast</td>\n",
              "      <td>252057</td>\n",
              "      <td>19198</td>\n",
              "      <td>1234</td>\n",
              "      <td>1471</td>\n",
              "      <td>master masterpodcast lord lord vinheteiro z z ...</td>\n",
              "    </tr>\n",
              "    <tr>\n",
              "      <th>37421</th>\n",
              "      <td>gareth bale brace secures dramatic comeback fi...</td>\n",
              "      <td>2252090</td>\n",
              "      <td>34063</td>\n",
              "      <td>868</td>\n",
              "      <td>2004</td>\n",
              "      <td>spurs tottenham hotspur tottenham leicester sp...</td>\n",
              "    </tr>\n",
              "  </tbody>\n",
              "</table>\n",
              "<p>37422 rows × 6 columns</p>\n",
              "</div>\n",
              "      <button class=\"colab-df-convert\" onclick=\"convertToInteractive('df-2c054c6f-b78a-49d0-9bda-4fda6a5a1168')\"\n",
              "              title=\"Convert this dataframe to an interactive table.\"\n",
              "              style=\"display:none;\">\n",
              "        \n",
              "  <svg xmlns=\"http://www.w3.org/2000/svg\" height=\"24px\"viewBox=\"0 0 24 24\"\n",
              "       width=\"24px\">\n",
              "    <path d=\"M0 0h24v24H0V0z\" fill=\"none\"/>\n",
              "    <path d=\"M18.56 5.44l.94 2.06.94-2.06 2.06-.94-2.06-.94-.94-2.06-.94 2.06-2.06.94zm-11 1L8.5 8.5l.94-2.06 2.06-.94-2.06-.94L8.5 2.5l-.94 2.06-2.06.94zm10 10l.94 2.06.94-2.06 2.06-.94-2.06-.94-.94-2.06-.94 2.06-2.06.94z\"/><path d=\"M17.41 7.96l-1.37-1.37c-.4-.4-.92-.59-1.43-.59-.52 0-1.04.2-1.43.59L10.3 9.45l-7.72 7.72c-.78.78-.78 2.05 0 2.83L4 21.41c.39.39.9.59 1.41.59.51 0 1.02-.2 1.41-.59l7.78-7.78 2.81-2.81c.8-.78.8-2.07 0-2.86zM5.41 20L4 18.59l7.72-7.72 1.47 1.35L5.41 20z\"/>\n",
              "  </svg>\n",
              "      </button>\n",
              "      \n",
              "  <style>\n",
              "    .colab-df-container {\n",
              "      display:flex;\n",
              "      flex-wrap:wrap;\n",
              "      gap: 12px;\n",
              "    }\n",
              "\n",
              "    .colab-df-convert {\n",
              "      background-color: #E8F0FE;\n",
              "      border: none;\n",
              "      border-radius: 50%;\n",
              "      cursor: pointer;\n",
              "      display: none;\n",
              "      fill: #1967D2;\n",
              "      height: 32px;\n",
              "      padding: 0 0 0 0;\n",
              "      width: 32px;\n",
              "    }\n",
              "\n",
              "    .colab-df-convert:hover {\n",
              "      background-color: #E2EBFA;\n",
              "      box-shadow: 0px 1px 2px rgba(60, 64, 67, 0.3), 0px 1px 3px 1px rgba(60, 64, 67, 0.15);\n",
              "      fill: #174EA6;\n",
              "    }\n",
              "\n",
              "    [theme=dark] .colab-df-convert {\n",
              "      background-color: #3B4455;\n",
              "      fill: #D2E3FC;\n",
              "    }\n",
              "\n",
              "    [theme=dark] .colab-df-convert:hover {\n",
              "      background-color: #434B5C;\n",
              "      box-shadow: 0px 1px 3px 1px rgba(0, 0, 0, 0.15);\n",
              "      filter: drop-shadow(0px 1px 2px rgba(0, 0, 0, 0.3));\n",
              "      fill: #FFFFFF;\n",
              "    }\n",
              "  </style>\n",
              "\n",
              "      <script>\n",
              "        const buttonEl =\n",
              "          document.querySelector('#df-2c054c6f-b78a-49d0-9bda-4fda6a5a1168 button.colab-df-convert');\n",
              "        buttonEl.style.display =\n",
              "          google.colab.kernel.accessAllowed ? 'block' : 'none';\n",
              "\n",
              "        async function convertToInteractive(key) {\n",
              "          const element = document.querySelector('#df-2c054c6f-b78a-49d0-9bda-4fda6a5a1168');\n",
              "          const dataTable =\n",
              "            await google.colab.kernel.invokeFunction('convertToInteractive',\n",
              "                                                     [key], {});\n",
              "          if (!dataTable) return;\n",
              "\n",
              "          const docLinkHtml = 'Like what you see? Visit the ' +\n",
              "            '<a target=\"_blank\" href=https://colab.research.google.com/notebooks/data_table.ipynb>data table notebook</a>'\n",
              "            + ' to learn more about interactive tables.';\n",
              "          element.innerHTML = '';\n",
              "          dataTable['output_type'] = 'display_data';\n",
              "          await google.colab.output.renderOutput(dataTable, element);\n",
              "          const docLink = document.createElement('div');\n",
              "          docLink.innerHTML = docLinkHtml;\n",
              "          element.appendChild(docLink);\n",
              "        }\n",
              "      </script>\n",
              "    </div>\n",
              "  </div>\n",
              "  "
            ]
          },
          "metadata": {},
          "execution_count": 9
        }
      ],
      "source": [
        "import texthero as hero\n",
        "from texthero import preprocessing\n",
        "\n",
        "clean_df = df.drop(['video_id','published_at','channel_id','channel_title','description','comments'],axis=1)\n",
        "\n",
        "clean_df['title'] = clean_df['title'].pipe(hero.clean,[preprocessing.remove_urls , preprocessing.clean])\n",
        "clean_df['tags'] = clean_df['tags'].pipe(hero.clean,[preprocessing.remove_urls , preprocessing.clean])\n",
        "clean_df"
      ]
    },
    {
      "cell_type": "markdown",
      "metadata": {
        "id": "2xDXcj1oagl1"
      },
      "source": [
        "**Creating bag-of-words:**"
      ]
    },
    {
      "cell_type": "code",
      "execution_count": 14,
      "metadata": {
        "colab": {
          "base_uri": "https://localhost:8080/"
        },
        "id": "ZEBmRlC4yYJw",
        "outputId": "de082759-af62-45eb-9f41-f040380c8bf5"
      },
      "outputs": [
        {
          "output_type": "stream",
          "name": "stdout",
          "text": [
            "Top repeated words for title: ['de' 'highlights' 'minecraft' 'music' 'new' 'official' 'shorts' 'trailer'\n",
            " 'video' 'vs']\n",
            "Top repeated words for tags: ['football' 'funny' 'highlights' 'league' 'minecraft' 'new' 'news'\n",
            " 'united' 'video' 'vs']\n"
          ]
        }
      ],
      "source": [
        "from sklearn.feature_extraction.text import CountVectorizer\n",
        "\n",
        "bag_of_words_df = pd.DataFrame()\n",
        "\n",
        "TOP_N_WORDS = 10\n",
        "\n",
        "for text_column in ['title','tags']:\n",
        "  vec = CountVectorizer(max_features = TOP_N_WORDS)\n",
        "  txt_to_fts = vec.fit_transform(clean_df[text_column]).toarray()\n",
        "  txt_to_fts.shape\n",
        "\n",
        "  names = vec.get_feature_names_out()\n",
        "  print(\"Top repeated words for {}:\".format(text_column),names)\n",
        "\n",
        "  txt_fts_names = [text_column + f'_word_{i}_count' for i in range(TOP_N_WORDS)]\n",
        "  bag_of_words_df[txt_fts_names] = txt_to_fts\n"
      ]
    },
    {
      "cell_type": "markdown",
      "metadata": {
        "id": "4-xFYcWjwtJj"
      },
      "source": [
        "**Merging data:**"
      ]
    },
    {
      "cell_type": "code",
      "execution_count": 11,
      "metadata": {
        "id": "YHCusrgUyH1t"
      },
      "outputs": [],
      "source": [
        "merged_df = pd.concat([clean_df,bag_of_words_df],axis=1).drop([\"tags\",\"title\"],axis=1)"
      ]
    },
    {
      "cell_type": "markdown",
      "metadata": {
        "id": "45cZpEbXxHW2"
      },
      "source": [
        "**Specify input variables (X) and an output variable (y):**"
      ]
    },
    {
      "cell_type": "code",
      "execution_count": 12,
      "metadata": {
        "id": "d5j9XyH_kczL"
      },
      "outputs": [],
      "source": [
        "X = merged_df.drop(['dislikes'],axis=1)\n",
        "y = merged_df['dislikes']"
      ]
    },
    {
      "cell_type": "markdown",
      "metadata": {
        "id": "o0CqFLkkxRPJ"
      },
      "source": [
        "**Traning and testing our model by K-fold cross-validation method:**"
      ]
    },
    {
      "cell_type": "code",
      "execution_count": 13,
      "metadata": {
        "id": "T2SNXBFBUSE1"
      },
      "outputs": [],
      "source": [
        "from sklearn.pipeline import Pipeline\n",
        "from sklearn.model_selection import KFold\n",
        "from sklearn.model_selection import cross_val_score\n",
        "from catboost import CatBoostRegressor\n",
        "\n",
        "folds = 5\n",
        "\n",
        "regressor = CatBoostRegressor(silent=True)\n",
        "\n",
        "pipeline = Pipeline([ ('estimator', regressor)])\n",
        "\n",
        "cv = KFold(n_splits=folds)\n",
        "scores = cross_val_score(pipeline, X, y,cv = cv , scoring='neg_mean_absolute_error')"
      ]
    },
    {
      "cell_type": "markdown",
      "metadata": {
        "id": "Jb3Zdwnkxk4k"
      },
      "source": [
        "# Results:"
      ]
    },
    {
      "cell_type": "code",
      "execution_count": 26,
      "metadata": {
        "colab": {
          "base_uri": "https://localhost:8080/"
        },
        "id": "fy1wc9rYRWhX",
        "outputId": "7ce9988a-5316-404e-d0dc-f7e00c39a38b"
      },
      "outputs": [
        {
          "output_type": "stream",
          "name": "stdout",
          "text": [
            "[-2502.5  -2940.65 -2894.39 -2731.46 -2470.32]\n"
          ]
        }
      ],
      "source": [
        "print(scores)"
      ]
    },
    {
      "cell_type": "code",
      "execution_count": 27,
      "metadata": {
        "colab": {
          "base_uri": "https://localhost:8080/"
        },
        "id": "gDSgiOi0vg94",
        "outputId": "50a48efc-daa8-4aab-96af-10cde4d88dfc"
      },
      "outputs": [
        {
          "output_type": "stream",
          "name": "stdout",
          "text": [
            "-2707.864441259917\n"
          ]
        }
      ],
      "source": [
        "print(scores.mean())"
      ]
    },
    {
      "cell_type": "code",
      "execution_count": 17,
      "metadata": {
        "id": "-uvXIfPiCZ8F"
      },
      "outputs": [],
      "source": [
        "from sklearn.model_selection import train_test_split\n",
        "X_train, X_test, y_train, y_test = train_test_split(X, y, test_size = 0.2)"
      ]
    },
    {
      "cell_type": "code",
      "execution_count": 18,
      "metadata": {
        "colab": {
          "base_uri": "https://localhost:8080/"
        },
        "id": "QEM_hdGVhm_D",
        "outputId": "a3cb29bf-b0d2-4e47-d5d7-460d7c3e5b25"
      },
      "outputs": [
        {
          "output_type": "execute_result",
          "data": {
            "text/plain": [
              "<catboost.core.CatBoostRegressor at 0x7f5da31c6990>"
            ]
          },
          "metadata": {},
          "execution_count": 18
        }
      ],
      "source": [
        "cat_regressor = CatBoostRegressor(silent=True)\n",
        "cat_regressor.fit(X_train,y_train)"
      ]
    },
    {
      "cell_type": "markdown",
      "metadata": {
        "id": "5nyiSN8Tyv-m"
      },
      "source": [
        "**The impact of each feature on the model output:**\n",
        "\n",
        "*For having a cleaner plot, we remove outliers using Z-scores.*"
      ]
    },
    {
      "cell_type": "code",
      "execution_count": 19,
      "metadata": {
        "id": "oEHck-mqPfYH"
      },
      "outputs": [],
      "source": [
        "import scipy.stats as stats\n",
        "z_scores = stats.zscore(X_train)\n",
        "abs_z_scores = np.abs(z_scores)\n",
        "filtered_entries = (abs_z_scores < 1).all(axis=1)\n",
        "new_X = X_train[filtered_entries]"
      ]
    },
    {
      "cell_type": "code",
      "execution_count": 20,
      "metadata": {
        "id": "LXukO5bZdMHw"
      },
      "outputs": [],
      "source": [
        "import shap\n",
        "explainer = shap.TreeExplainer(cat_regressor)\n",
        "shap_values = explainer.shap_values(new_X)"
      ]
    },
    {
      "cell_type": "code",
      "execution_count": 21,
      "metadata": {
        "colab": {
          "base_uri": "https://localhost:8080/",
          "height": 585
        },
        "id": "kSMHagsGdO6-",
        "outputId": "7170b6fe-d206-4b09-c6e8-9a6b2e76807a"
      },
      "outputs": [
        {
          "output_type": "display_data",
          "data": {
            "text/plain": [
              "<Figure size 576x684 with 2 Axes>"
            ],
            "image/png": "[encoded data removed]"
          },
          "metadata": {
            "needs_background": "light"
          }
        }
      ],
      "source": [
        "shap.summary_plot(shap_values, new_X)"
      ]
    },
    {
      "cell_type": "markdown",
      "metadata": {
        "id": "Z29AvOH3yVjH"
      },
      "source": [
        "**The relationship between MAE and video dislike quantity:**"
      ]
    },
    {
      "cell_type": "code",
      "execution_count": 22,
      "metadata": {
        "id": "DmMps7hhl2wA"
      },
      "outputs": [],
      "source": [
        "from sklearn.metrics import mean_absolute_error\n",
        "errors = []\n",
        "ys = []\n",
        "for i in range (np.min(y_test)+1,np.max(y_test),1000):\n",
        "  ys.append(i)\n",
        "  slected_y_test = y_test[y_test<i]\n",
        "  slected_x_test = X_test[y_test<i]\n",
        "# Predicting the Test set results\n",
        "  y_pred = cat_regressor.predict(slected_x_test)\n",
        "  np.set_printoptions(precision=2)\n",
        "  errors.append(mean_absolute_error(slected_y_test, y_pred))"
      ]
    },
    {
      "cell_type": "code",
      "execution_count": 23,
      "metadata": {
        "colab": {
          "base_uri": "https://localhost:8080/",
          "height": 497
        },
        "id": "deUXY--9mUQ1",
        "outputId": "d016f516-c325-413f-bb7e-e18d7c26c441"
      },
      "outputs": [
        {
          "output_type": "display_data",
          "data": {
            "text/plain": [
              "<Figure size 1080x576 with 1 Axes>"
            ],
            "image/png": "[encoded data removed]"
          },
          "metadata": {
            "needs_background": "light"
          }
        }
      ],
      "source": [
        "from pylab import rcParams\n",
        "rcParams['figure.figsize'] = 15, 8\n",
        "plt.plot(ys ,errors)\n",
        "plt.xlabel(\"Dislikes\")\n",
        "plt.ylabel(\"MAE\")\n",
        "plt.show()"
      ]
    },
    {
      "cell_type": "markdown",
      "metadata": {
        "id": "hZ06VZU3ypJn"
      },
      "source": [
        "**The relationship between MAE and video views quantity:**"
      ]
    },
    {
      "cell_type": "code",
      "execution_count": 24,
      "metadata": {
        "id": "DMxQEcQ5JUfR"
      },
      "outputs": [],
      "source": [
        "from sklearn.metrics import mean_absolute_error\n",
        "errors = []\n",
        "ys = []\n",
        "for i in range (np.min(X_test['view_count'])+1,np.max(X_test['view_count']),100000):\n",
        "  ys.append(i)\n",
        "  selected_y_test = y_test[X_test['view_count']<i]\n",
        "  selected_x_test = X_test[X_test['view_count']<i]\n",
        "# Predicting the Test set results\n",
        "  y_pred = cat_regressor.predict(selected_x_test)\n",
        "  np.set_printoptions(precision=2)\n",
        "  errors.append(mean_absolute_error(selected_y_test, y_pred))"
      ]
    },
    {
      "cell_type": "code",
      "execution_count": 25,
      "metadata": {
        "colab": {
          "base_uri": "https://localhost:8080/",
          "height": 497
        },
        "id": "Lt7zlgPhvSUE",
        "outputId": "bff5c10b-64fa-4376-e56d-c976753cd15e"
      },
      "outputs": [
        {
          "output_type": "display_data",
          "data": {
            "text/plain": [
              "<Figure size 1080x576 with 1 Axes>"
            ],
            "image/png": "[encoded data removed]"
          },
          "metadata": {
            "needs_background": "light"
          }
        }
      ],
      "source": [
        "from pylab import rcParams\n",
        "rcParams['figure.figsize'] = 15, 8\n",
        "plt.plot(ys ,errors)\n",
        "plt.xlabel(\"Views\")\n",
        "plt.ylabel(\"MAE\")\n",
        "plt.show()"
      ]
    }
  ],
  "metadata": {
    "colab": {
      "collapsed_sections": [],
      "name": "Predicting YouTube Dislikes (bag-of-words model)",
      "provenance": [],
      "authorship_tag": "ABX9TyNWw/0IvBbpfAjP8IxIftbq",
      "include_colab_link": true
    },
    "kernelspec": {
      "display_name": "Python 3",
      "name": "python3"
    },
    "language_info": {
      "name": "python"
    }
  },
  "nbformat": 4,
  "nbformat_minor": 0
}