{
  "cells": [
    {
      "cell_type": "markdown",
      "metadata": {
        "id": "view-in-github",
        "colab_type": "text"
      },
      "source": [
        "<a href=\"https://colab.research.google.com/github/ramtiin/Predicting-YouTube-Dislikes-via-Catboost-and-Sentiment-Analysis/blob/main/Predicting_YouTube_Dislikes_via_Catboost_and_Sentiment_Analysis.ipynb\" target=\"_parent\"><img src=\"https://colab.research.google.com/assets/colab-badge.svg\" alt=\"Open In Colab\"/></a>"
      ]
    },
    {
      "cell_type": "code",
      "execution_count": 1,
      "metadata": {
        "id": "fnT9ONz7A5i3"
      },
      "outputs": [],
      "source": [
        "import pandas as pd\n",
        "import numpy as np\n",
        "import matplotlib.pyplot as plt"
      ]
    },
    {
      "cell_type": "markdown",
      "metadata": {
        "id": "_IWxiNIU_SJ2"
      },
      "source": [
        "**Downloading the dataset:**"
      ]
    },
    {
      "cell_type": "markdown",
      "metadata": {
        "id": "MxGEjcSo_YhV"
      },
      "source": [
        "For downloading datasets from Kaggle, you will need an API key.\n",
        "\n",
        "To find your API credentials, follow these steps:\n",
        "\n",
        "1.   After signing in to https://kaggle.com/, select \"My Account\" from the menu on the top right. \n",
        "2.   Click \"Create New API Token\" under the \"API\" section. This will download a file kaggle.json.\n",
        "\n",
        "Then upload kaggle.json file to this notebook and run the following codes:\n"
      ]
    },
    {
      "cell_type": "code",
      "execution_count": 2,
      "metadata": {
        "colab": {
          "base_uri": "https://localhost:8080/"
        },
        "id": "7jiZyXR6AlHO",
        "outputId": "4ca91f60-75db-4c2e-fe66-e2cb5b56795f"
      },
      "outputs": [
        {
          "output_type": "stream",
          "name": "stdout",
          "text": [
            "Downloading youtube-dislikes-dataset.zip to /content\n",
            " 83% 49.0M/58.8M [00:03<00:00, 12.9MB/s]\n",
            "100% 58.8M/58.8M [00:03<00:00, 18.1MB/s]\n"
          ]
        }
      ],
      "source": [
        "! pip install -q kaggle\n",
        "\n",
        "! mkdir ~/.kaggle\n",
        "! cp kaggle.json ~/.kaggle/\n",
        "! chmod 600 ~/.kaggle/kaggle.json\n",
        "#! kaggle datasets list\n",
        "\n",
        "! kaggle datasets download -d dmitrynikolaev/youtube-dislikes-dataset"
      ]
    },
    {
      "cell_type": "code",
      "execution_count": 3,
      "metadata": {
        "colab": {
          "base_uri": "https://localhost:8080/"
        },
        "id": "pBwfPoKhBSgk",
        "outputId": "e5599782-8e6e-4855-f04d-6418b0a64c0e"
      },
      "outputs": [
        {
          "output_type": "stream",
          "name": "stdout",
          "text": [
            "Archive:  youtube-dislikes-dataset.zip\n",
            "  inflating: video_IDs/unique_ids_CA.txt  \n",
            "  inflating: video_IDs/unique_ids_GB.txt  \n",
            "  inflating: video_IDs/unique_ids_GB_CA_US.txt  \n",
            "  inflating: video_IDs/unique_ids_US.txt  \n",
            "  inflating: video_IDs/unique_ids_from_kaggle.txt  \n",
            "  inflating: youtube_dislike_dataset.csv  \n"
          ]
        }
      ],
      "source": [
        "! unzip youtube-dislikes-dataset.zip"
      ]
    },
    {
      "cell_type": "code",
      "execution_count": 4,
      "metadata": {
        "id": "-b6nQwloBYpX"
      },
      "outputs": [],
      "source": [
        "df = pd.read_csv(\"youtube_dislike_dataset.csv\")"
      ]
    },
    {
      "cell_type": "code",
      "execution_count": 5,
      "metadata": {
        "colab": {
          "base_uri": "https://localhost:8080/",
          "height": 1000
        },
        "id": "TFqX3ZlFM0vy",
        "outputId": "82547f49-bb3b-4136-febd-cd4a40b2ca21"
      },
      "outputs": [
        {
          "output_type": "execute_result",
          "data": {
            "text/html": [
              "\n",
              "  <div id=\"df-8a238006-2f3e-475c-8954-f397dc82c8af\">\n",
              "    <div class=\"colab-df-container\">\n",
              "      <div>\n",
              "<style scoped>\n",
              "    .dataframe tbody tr th:only-of-type {\n",
              "        vertical-align: middle;\n",
              "    }\n",
              "\n",
              "    .dataframe tbody tr th {\n",
              "        vertical-align: top;\n",
              "    }\n",
              "\n",
              "    .dataframe thead th {\n",
              "        text-align: right;\n",
              "    }\n",
              "</style>\n",
              "<table border=\"1\" class=\"dataframe\">\n",
              "  <thead>\n",
              "    <tr style=\"text-align: right;\">\n",
              "      <th></th>\n",
              "      <th>video_id</th>\n",
              "      <th>title</th>\n",
              "      <th>channel_id</th>\n",
              "      <th>channel_title</th>\n",
              "      <th>published_at</th>\n",
              "      <th>view_count</th>\n",
              "      <th>likes</th>\n",
              "      <th>dislikes</th>\n",
              "      <th>comment_count</th>\n",
              "      <th>tags</th>\n",
              "      <th>description</th>\n",
              "      <th>comments</th>\n",
              "    </tr>\n",
              "  </thead>\n",
              "  <tbody>\n",
              "    <tr>\n",
              "      <th>0</th>\n",
              "      <td>--0bCF-iK2E</td>\n",
              "      <td>Jadon Sancho  Magical Skills &amp; Goals</td>\n",
              "      <td>UC6UL29enLNe4mqwTfAyeNuw</td>\n",
              "      <td>Bundesliga</td>\n",
              "      <td>2021-07-01 10:00:00</td>\n",
              "      <td>1048888</td>\n",
              "      <td>19515</td>\n",
              "      <td>226</td>\n",
              "      <td>1319</td>\n",
              "      <td>football soccer ftbol alemn Bundesliga season ...</td>\n",
              "      <td>Enjoy the best skills and goals from Jadon San...</td>\n",
              "      <td>Respect to Dortmund fans,must be sad losing hi...</td>\n",
              "    </tr>\n",
              "    <tr>\n",
              "      <th>1</th>\n",
              "      <td>--14w5SOEUs</td>\n",
              "      <td>Migos - Avalanche (Official Video)</td>\n",
              "      <td>UCGIelM2Dj3zza3xyV3pL3WQ</td>\n",
              "      <td>MigosVEVO</td>\n",
              "      <td>2021-06-10 16:00:00</td>\n",
              "      <td>15352638</td>\n",
              "      <td>359277</td>\n",
              "      <td>7479</td>\n",
              "      <td>18729</td>\n",
              "      <td>Migos Avalanche Quality Control Music/Motown R...</td>\n",
              "      <td>Watch the the official video for Migos - \"Aval...</td>\n",
              "      <td>Migos just makes me want to live my live to th...</td>\n",
              "    </tr>\n",
              "    <tr>\n",
              "      <th>2</th>\n",
              "      <td>--40TEbZ9Is</td>\n",
              "      <td>Supporting Actress in a Comedy: 73rd Emmys</td>\n",
              "      <td>UClBKH8yZRcM4AsRjDVEdjMg</td>\n",
              "      <td>Television Academy</td>\n",
              "      <td>2021-09-20 01:03:32</td>\n",
              "      <td>925281</td>\n",
              "      <td>11212</td>\n",
              "      <td>401</td>\n",
              "      <td>831</td>\n",
              "      <td></td>\n",
              "      <td>Hannah Waddingham wins the Emmy for Supporting...</td>\n",
              "      <td>Hannah's energy bursts through any screen. Wel...</td>\n",
              "    </tr>\n",
              "    <tr>\n",
              "      <th>3</th>\n",
              "      <td>--4tfbSyYDE</td>\n",
              "      <td>JO1'YOUNG (JO1 ver.)' PERFORMANCE VIDEO</td>\n",
              "      <td>UCsmXiDP8S40uBeJYxvyulmA</td>\n",
              "      <td>JO1</td>\n",
              "      <td>2021-03-03 10:00:17</td>\n",
              "      <td>2641597</td>\n",
              "      <td>39131</td>\n",
              "      <td>441</td>\n",
              "      <td>3745</td>\n",
              "      <td>PRODUCE101JAPAN              JO1   TheSTAR STA...</td>\n",
              "      <td>JO1'YOUNG (JO1 ver.)' PERFORMANCE VIDEO\\n\\n---...</td>\n",
              "      <td>youngVer&gt;&lt;  REN is really PERFECT. It's not ju...</td>\n",
              "    </tr>\n",
              "    <tr>\n",
              "      <th>4</th>\n",
              "      <td>--DKkzWVh-E</td>\n",
              "      <td>Why Retaining Walls Collapse</td>\n",
              "      <td>UCMOqf8ab-42UUQIdVoKwjlQ</td>\n",
              "      <td>Practical Engineering</td>\n",
              "      <td>2021-12-07 13:00:00</td>\n",
              "      <td>715724</td>\n",
              "      <td>32887</td>\n",
              "      <td>367</td>\n",
              "      <td>1067</td>\n",
              "      <td>retaining wall New Jersey highway Direct Conne...</td>\n",
              "      <td>One of the most important (and innocuous) part...</td>\n",
              "      <td>Keep up with all my projects here: https://pr...</td>\n",
              "    </tr>\n",
              "    <tr>\n",
              "      <th>...</th>\n",
              "      <td>...</td>\n",
              "      <td>...</td>\n",
              "      <td>...</td>\n",
              "      <td>...</td>\n",
              "      <td>...</td>\n",
              "      <td>...</td>\n",
              "      <td>...</td>\n",
              "      <td>...</td>\n",
              "      <td>...</td>\n",
              "      <td>...</td>\n",
              "      <td>...</td>\n",
              "      <td>...</td>\n",
              "    </tr>\n",
              "    <tr>\n",
              "      <th>37417</th>\n",
              "      <td>zzd4ydafGR0</td>\n",
              "      <td>Lil Tjay - Calling My Phone (feat. 6LACK) [Off...</td>\n",
              "      <td>UCEB4a5o_6KfjxHwNMnmj54Q</td>\n",
              "      <td>Lil Tjay</td>\n",
              "      <td>2021-02-12 05:03:49</td>\n",
              "      <td>120408275</td>\n",
              "      <td>2180780</td>\n",
              "      <td>35871</td>\n",
              "      <td>81360</td>\n",
              "      <td>Lil Tjay Steady Calling My Phone Calling My Ph...</td>\n",
              "      <td>Official video for \"Calling My Phone\" by Lil T...</td>\n",
              "      <td>'DESTINED 2 WIN' OUT NOW !! https://liltjay.ln...</td>\n",
              "    </tr>\n",
              "    <tr>\n",
              "      <th>37418</th>\n",
              "      <td>zziBybeSAtw</td>\n",
              "      <td>PELICANS at LAKERS | FULL GAME HIGHLIGHTS | Ja...</td>\n",
              "      <td>UCWJ2lWNubArHWmf3FIHbfcQ</td>\n",
              "      <td>NBA</td>\n",
              "      <td>2021-01-16 05:39:05</td>\n",
              "      <td>2841917</td>\n",
              "      <td>20759</td>\n",
              "      <td>1049</td>\n",
              "      <td>2624</td>\n",
              "      <td>NBA G League Basketball game-0022000187 Lakers...</td>\n",
              "      <td>PELICANS at LAKERS | FULL GAME HIGHLIGHTS | Ja...</td>\n",
              "      <td>Montrezl Harrell is going crazy with the rebou...</td>\n",
              "    </tr>\n",
              "    <tr>\n",
              "      <th>37419</th>\n",
              "      <td>zzk09ESX7e0</td>\n",
              "      <td>[MV]  (MAMAMOO) - Where Are We Now</td>\n",
              "      <td>UCuhAUMLzJxlP1W7mEk0_6lA</td>\n",
              "      <td>MAMAMOO</td>\n",
              "      <td>2021-06-02 09:00:10</td>\n",
              "      <td>13346678</td>\n",
              "      <td>720854</td>\n",
              "      <td>4426</td>\n",
              "      <td>90616</td>\n",
              "      <td>MAMAMOO  WAW  WAW MAMAMOO WAW Where Are We Now...</td>\n",
              "      <td>[MV]  (MAMAMOO) - Where Are We Now\\n\\nInstagra...</td>\n",
              "      <td>I honestly do not know why this song hit so ha...</td>\n",
              "    </tr>\n",
              "    <tr>\n",
              "      <th>37420</th>\n",
              "      <td>zzmQEb0Em5I</td>\n",
              "      <td>FELLIPE ESCUDERO- Master Podcast  #12</td>\n",
              "      <td>UC8NjnNWMsRqq11NYvHAQb1g</td>\n",
              "      <td>Master Podcast</td>\n",
              "      <td>2020-10-20 20:59:30</td>\n",
              "      <td>252057</td>\n",
              "      <td>19198</td>\n",
              "      <td>1234</td>\n",
              "      <td>1471</td>\n",
              "      <td>master masterpodcast lord lord vinheteiro z z ...</td>\n",
              "      <td>DOCTOR HAIR\\nhttps://www.thedoctorhair.com/?fb...</td>\n",
              "      <td>Foi um prazer passar esta tarde com vocs debat...</td>\n",
              "    </tr>\n",
              "    <tr>\n",
              "      <th>37421</th>\n",
              "      <td>zzxPZwaA-8w</td>\n",
              "      <td>Gareth Bale brace secures dramatic comeback on...</td>\n",
              "      <td>UCEg25rdRZXg32iwai6N6l0w</td>\n",
              "      <td>Tottenham Hotspur</td>\n",
              "      <td>2021-05-23 21:00:31</td>\n",
              "      <td>2252090</td>\n",
              "      <td>34063</td>\n",
              "      <td>868</td>\n",
              "      <td>2004</td>\n",
              "      <td>Spurs Tottenham Hotspur   Tottenham Leicester ...</td>\n",
              "      <td>Two minute highlights from Tottenham Hotspur's...</td>\n",
              "      <td>Thank you Kane for everything you have given t...</td>\n",
              "    </tr>\n",
              "  </tbody>\n",
              "</table>\n",
              "<p>37422 rows × 12 columns</p>\n",
              "</div>\n",
              "      <button class=\"colab-df-convert\" onclick=\"convertToInteractive('df-8a238006-2f3e-475c-8954-f397dc82c8af')\"\n",
              "              title=\"Convert this dataframe to an interactive table.\"\n",
              "              style=\"display:none;\">\n",
              "        \n",
              "  <svg xmlns=\"http://www.w3.org/2000/svg\" height=\"24px\"viewBox=\"0 0 24 24\"\n",
              "       width=\"24px\">\n",
              "    <path d=\"M0 0h24v24H0V0z\" fill=\"none\"/>\n",
              "    <path d=\"M18.56 5.44l.94 2.06.94-2.06 2.06-.94-2.06-.94-.94-2.06-.94 2.06-2.06.94zm-11 1L8.5 8.5l.94-2.06 2.06-.94-2.06-.94L8.5 2.5l-.94 2.06-2.06.94zm10 10l.94 2.06.94-2.06 2.06-.94-2.06-.94-.94-2.06-.94 2.06-2.06.94z\"/><path d=\"M17.41 7.96l-1.37-1.37c-.4-.4-.92-.59-1.43-.59-.52 0-1.04.2-1.43.59L10.3 9.45l-7.72 7.72c-.78.78-.78 2.05 0 2.83L4 21.41c.39.39.9.59 1.41.59.51 0 1.02-.2 1.41-.59l7.78-7.78 2.81-2.81c.8-.78.8-2.07 0-2.86zM5.41 20L4 18.59l7.72-7.72 1.47 1.35L5.41 20z\"/>\n",
              "  </svg>\n",
              "      </button>\n",
              "      \n",
              "  <style>\n",
              "    .colab-df-container {\n",
              "      display:flex;\n",
              "      flex-wrap:wrap;\n",
              "      gap: 12px;\n",
              "    }\n",
              "\n",
              "    .colab-df-convert {\n",
              "      background-color: #E8F0FE;\n",
              "      border: none;\n",
              "      border-radius: 50%;\n",
              "      cursor: pointer;\n",
              "      display: none;\n",
              "      fill: #1967D2;\n",
              "      height: 32px;\n",
              "      padding: 0 0 0 0;\n",
              "      width: 32px;\n",
              "    }\n",
              "\n",
              "    .colab-df-convert:hover {\n",
              "      background-color: #E2EBFA;\n",
              "      box-shadow: 0px 1px 2px rgba(60, 64, 67, 0.3), 0px 1px 3px 1px rgba(60, 64, 67, 0.15);\n",
              "      fill: #174EA6;\n",
              "    }\n",
              "\n",
              "    [theme=dark] .colab-df-convert {\n",
              "      background-color: #3B4455;\n",
              "      fill: #D2E3FC;\n",
              "    }\n",
              "\n",
              "    [theme=dark] .colab-df-convert:hover {\n",
              "      background-color: #434B5C;\n",
              "      box-shadow: 0px 1px 3px 1px rgba(0, 0, 0, 0.15);\n",
              "      filter: drop-shadow(0px 1px 2px rgba(0, 0, 0, 0.3));\n",
              "      fill: #FFFFFF;\n",
              "    }\n",
              "  </style>\n",
              "\n",
              "      <script>\n",
              "        const buttonEl =\n",
              "          document.querySelector('#df-8a238006-2f3e-475c-8954-f397dc82c8af button.colab-df-convert');\n",
              "        buttonEl.style.display =\n",
              "          google.colab.kernel.accessAllowed ? 'block' : 'none';\n",
              "\n",
              "        async function convertToInteractive(key) {\n",
              "          const element = document.querySelector('#df-8a238006-2f3e-475c-8954-f397dc82c8af');\n",
              "          const dataTable =\n",
              "            await google.colab.kernel.invokeFunction('convertToInteractive',\n",
              "                                                     [key], {});\n",
              "          if (!dataTable) return;\n",
              "\n",
              "          const docLinkHtml = 'Like what you see? Visit the ' +\n",
              "            '<a target=\"_blank\" href=https://colab.research.google.com/notebooks/data_table.ipynb>data table notebook</a>'\n",
              "            + ' to learn more about interactive tables.';\n",
              "          element.innerHTML = '';\n",
              "          dataTable['output_type'] = 'display_data';\n",
              "          await google.colab.output.renderOutput(dataTable, element);\n",
              "          const docLink = document.createElement('div');\n",
              "          docLink.innerHTML = docLinkHtml;\n",
              "          element.appendChild(docLink);\n",
              "        }\n",
              "      </script>\n",
              "    </div>\n",
              "  </div>\n",
              "  "
            ],
            "text/plain": [
              "          video_id                                              title  \\\n",
              "0      --0bCF-iK2E               Jadon Sancho  Magical Skills & Goals   \n",
              "1      --14w5SOEUs                 Migos - Avalanche (Official Video)   \n",
              "2      --40TEbZ9Is         Supporting Actress in a Comedy: 73rd Emmys   \n",
              "3      --4tfbSyYDE            JO1'YOUNG (JO1 ver.)' PERFORMANCE VIDEO   \n",
              "4      --DKkzWVh-E                       Why Retaining Walls Collapse   \n",
              "...            ...                                                ...   \n",
              "37417  zzd4ydafGR0  Lil Tjay - Calling My Phone (feat. 6LACK) [Off...   \n",
              "37418  zziBybeSAtw  PELICANS at LAKERS | FULL GAME HIGHLIGHTS | Ja...   \n",
              "37419  zzk09ESX7e0                 [MV]  (MAMAMOO) - Where Are We Now   \n",
              "37420  zzmQEb0Em5I              FELLIPE ESCUDERO- Master Podcast  #12   \n",
              "37421  zzxPZwaA-8w  Gareth Bale brace secures dramatic comeback on...   \n",
              "\n",
              "                     channel_id          channel_title         published_at  \\\n",
              "0      UC6UL29enLNe4mqwTfAyeNuw             Bundesliga  2021-07-01 10:00:00   \n",
              "1      UCGIelM2Dj3zza3xyV3pL3WQ              MigosVEVO  2021-06-10 16:00:00   \n",
              "2      UClBKH8yZRcM4AsRjDVEdjMg     Television Academy  2021-09-20 01:03:32   \n",
              "3      UCsmXiDP8S40uBeJYxvyulmA                    JO1  2021-03-03 10:00:17   \n",
              "4      UCMOqf8ab-42UUQIdVoKwjlQ  Practical Engineering  2021-12-07 13:00:00   \n",
              "...                         ...                    ...                  ...   \n",
              "37417  UCEB4a5o_6KfjxHwNMnmj54Q               Lil Tjay  2021-02-12 05:03:49   \n",
              "37418  UCWJ2lWNubArHWmf3FIHbfcQ                    NBA  2021-01-16 05:39:05   \n",
              "37419  UCuhAUMLzJxlP1W7mEk0_6lA                MAMAMOO  2021-06-02 09:00:10   \n",
              "37420  UC8NjnNWMsRqq11NYvHAQb1g         Master Podcast  2020-10-20 20:59:30   \n",
              "37421  UCEg25rdRZXg32iwai6N6l0w      Tottenham Hotspur  2021-05-23 21:00:31   \n",
              "\n",
              "       view_count    likes  dislikes  comment_count  \\\n",
              "0         1048888    19515       226           1319   \n",
              "1        15352638   359277      7479          18729   \n",
              "2          925281    11212       401            831   \n",
              "3         2641597    39131       441           3745   \n",
              "4          715724    32887       367           1067   \n",
              "...           ...      ...       ...            ...   \n",
              "37417   120408275  2180780     35871          81360   \n",
              "37418     2841917    20759      1049           2624   \n",
              "37419    13346678   720854      4426          90616   \n",
              "37420      252057    19198      1234           1471   \n",
              "37421     2252090    34063       868           2004   \n",
              "\n",
              "                                                    tags  \\\n",
              "0      football soccer ftbol alemn Bundesliga season ...   \n",
              "1      Migos Avalanche Quality Control Music/Motown R...   \n",
              "2                                                          \n",
              "3      PRODUCE101JAPAN              JO1   TheSTAR STA...   \n",
              "4      retaining wall New Jersey highway Direct Conne...   \n",
              "...                                                  ...   \n",
              "37417  Lil Tjay Steady Calling My Phone Calling My Ph...   \n",
              "37418  NBA G League Basketball game-0022000187 Lakers...   \n",
              "37419  MAMAMOO  WAW  WAW MAMAMOO WAW Where Are We Now...   \n",
              "37420  master masterpodcast lord lord vinheteiro z z ...   \n",
              "37421  Spurs Tottenham Hotspur   Tottenham Leicester ...   \n",
              "\n",
              "                                             description  \\\n",
              "0      Enjoy the best skills and goals from Jadon San...   \n",
              "1      Watch the the official video for Migos - \"Aval...   \n",
              "2      Hannah Waddingham wins the Emmy for Supporting...   \n",
              "3      JO1'YOUNG (JO1 ver.)' PERFORMANCE VIDEO\\n\\n---...   \n",
              "4      One of the most important (and innocuous) part...   \n",
              "...                                                  ...   \n",
              "37417  Official video for \"Calling My Phone\" by Lil T...   \n",
              "37418  PELICANS at LAKERS | FULL GAME HIGHLIGHTS | Ja...   \n",
              "37419  [MV]  (MAMAMOO) - Where Are We Now\\n\\nInstagra...   \n",
              "37420  DOCTOR HAIR\\nhttps://www.thedoctorhair.com/?fb...   \n",
              "37421  Two minute highlights from Tottenham Hotspur's...   \n",
              "\n",
              "                                                comments  \n",
              "0      Respect to Dortmund fans,must be sad losing hi...  \n",
              "1      Migos just makes me want to live my live to th...  \n",
              "2      Hannah's energy bursts through any screen. Wel...  \n",
              "3      youngVer><  REN is really PERFECT. It's not ju...  \n",
              "4       Keep up with all my projects here: https://pr...  \n",
              "...                                                  ...  \n",
              "37417  'DESTINED 2 WIN' OUT NOW !! https://liltjay.ln...  \n",
              "37418  Montrezl Harrell is going crazy with the rebou...  \n",
              "37419  I honestly do not know why this song hit so ha...  \n",
              "37420  Foi um prazer passar esta tarde com vocs debat...  \n",
              "37421  Thank you Kane for everything you have given t...  \n",
              "\n",
              "[37422 rows x 12 columns]"
            ]
          },
          "metadata": {},
          "execution_count": 5
        }
      ],
      "source": [
        "df\n"
      ]
    },
    {
      "cell_type": "markdown",
      "metadata": {
        "id": "A-YCumn7_Ffl"
      },
      "source": [
        "**Installing necessary packages:**"
      ]
    },
    {
      "cell_type": "code",
      "execution_count": 6,
      "metadata": {
        "colab": {
          "base_uri": "https://localhost:8080/"
        },
        "id": "s72vsWEVqM6l",
        "outputId": "6c88369a-0b8b-411e-aa27-f2e6a05d9ee8"
      },
      "outputs": [
        {
          "output_type": "stream",
          "name": "stdout",
          "text": [
            "Collecting vaderSentiment\n",
            "  Downloading vaderSentiment-3.3.2-py2.py3-none-any.whl (125 kB)\n",
            "\u001b[?25l\r\u001b[K     |██▋                             | 10 kB 17.5 MB/s eta 0:00:01\r\u001b[K     |█████▏                          | 20 kB 8.8 MB/s eta 0:00:01\r\u001b[K     |███████▉                        | 30 kB 4.1 MB/s eta 0:00:01\r\u001b[K     |██████████▍                     | 40 kB 4.8 MB/s eta 0:00:01\r\u001b[K     |█████████████                   | 51 kB 3.3 MB/s eta 0:00:01\r\u001b[K     |███████████████▋                | 61 kB 3.9 MB/s eta 0:00:01\r\u001b[K     |██████████████████▏             | 71 kB 4.0 MB/s eta 0:00:01\r\u001b[K     |████████████████████▉           | 81 kB 3.9 MB/s eta 0:00:01\r\u001b[K     |███████████████████████▍        | 92 kB 4.3 MB/s eta 0:00:01\r\u001b[K     |██████████████████████████      | 102 kB 4.1 MB/s eta 0:00:01\r\u001b[K     |████████████████████████████▋   | 112 kB 4.1 MB/s eta 0:00:01\r\u001b[K     |███████████████████████████████▏| 122 kB 4.1 MB/s eta 0:00:01\r\u001b[K     |████████████████████████████████| 125 kB 4.1 MB/s \n",
            "\u001b[?25hRequirement already satisfied: requests in /usr/local/lib/python3.7/dist-packages (from vaderSentiment) (2.23.0)\n",
            "Requirement already satisfied: idna<3,>=2.5 in /usr/local/lib/python3.7/dist-packages (from requests->vaderSentiment) (2.10)\n",
            "Requirement already satisfied: certifi>=2017.4.17 in /usr/local/lib/python3.7/dist-packages (from requests->vaderSentiment) (2021.10.8)\n",
            "Requirement already satisfied: chardet<4,>=3.0.2 in /usr/local/lib/python3.7/dist-packages (from requests->vaderSentiment) (3.0.4)\n",
            "Requirement already satisfied: urllib3!=1.25.0,!=1.25.1,<1.26,>=1.21.1 in /usr/local/lib/python3.7/dist-packages (from requests->vaderSentiment) (1.24.3)\n",
            "Installing collected packages: vaderSentiment\n",
            "Successfully installed vaderSentiment-3.3.2\n",
            "Collecting texthero\n",
            "  Downloading texthero-1.1.0-py3-none-any.whl (24 kB)\n",
            "Collecting nltk>=3.3\n",
            "  Downloading nltk-3.7-py3-none-any.whl (1.5 MB)\n",
            "\u001b[K     |████████████████████████████████| 1.5 MB 5.9 MB/s \n",
            "\u001b[?25hRequirement already satisfied: numpy>=1.17 in /usr/local/lib/python3.7/dist-packages (from texthero) (1.21.5)\n",
            "Requirement already satisfied: scikit-learn>=0.22 in /usr/local/lib/python3.7/dist-packages (from texthero) (1.0.2)\n",
            "Collecting unidecode>=1.1.1\n",
            "  Downloading Unidecode-1.3.3-py3-none-any.whl (235 kB)\n",
            "\u001b[K     |████████████████████████████████| 235 kB 38.9 MB/s \n",
            "\u001b[?25hRequirement already satisfied: tqdm>=4.3 in /usr/local/lib/python3.7/dist-packages (from texthero) (4.63.0)\n",
            "Requirement already satisfied: pandas>=1.0.2 in /usr/local/lib/python3.7/dist-packages (from texthero) (1.3.5)\n",
            "Requirement already satisfied: matplotlib>=3.1.0 in /usr/local/lib/python3.7/dist-packages (from texthero) (3.2.2)\n",
            "Requirement already satisfied: plotly>=4.2.0 in /usr/local/lib/python3.7/dist-packages (from texthero) (5.5.0)\n",
            "Requirement already satisfied: gensim<4.0,>=3.6.0 in /usr/local/lib/python3.7/dist-packages (from texthero) (3.6.0)\n",
            "Requirement already satisfied: spacy<3.0.0 in /usr/local/lib/python3.7/dist-packages (from texthero) (2.2.4)\n",
            "Requirement already satisfied: wordcloud>=1.5.0 in /usr/local/lib/python3.7/dist-packages (from texthero) (1.5.0)\n",
            "Requirement already satisfied: six>=1.5.0 in /usr/local/lib/python3.7/dist-packages (from gensim<4.0,>=3.6.0->texthero) (1.15.0)\n",
            "Requirement already satisfied: smart-open>=1.2.1 in /usr/local/lib/python3.7/dist-packages (from gensim<4.0,>=3.6.0->texthero) (5.2.1)\n",
            "Requirement already satisfied: scipy>=0.18.1 in /usr/local/lib/python3.7/dist-packages (from gensim<4.0,>=3.6.0->texthero) (1.4.1)\n",
            "Requirement already satisfied: pyparsing!=2.0.4,!=2.1.2,!=2.1.6,>=2.0.1 in /usr/local/lib/python3.7/dist-packages (from matplotlib>=3.1.0->texthero) (3.0.7)\n",
            "Requirement already satisfied: python-dateutil>=2.1 in /usr/local/lib/python3.7/dist-packages (from matplotlib>=3.1.0->texthero) (2.8.2)\n",
            "Requirement already satisfied: cycler>=0.10 in /usr/local/lib/python3.7/dist-packages (from matplotlib>=3.1.0->texthero) (0.11.0)\n",
            "Requirement already satisfied: kiwisolver>=1.0.1 in /usr/local/lib/python3.7/dist-packages (from matplotlib>=3.1.0->texthero) (1.3.2)\n",
            "Requirement already satisfied: joblib in /usr/local/lib/python3.7/dist-packages (from nltk>=3.3->texthero) (1.1.0)\n",
            "Collecting regex>=2021.8.3\n",
            "  Downloading regex-2022.3.2-cp37-cp37m-manylinux_2_17_x86_64.manylinux2014_x86_64.whl (749 kB)\n",
            "\u001b[K     |████████████████████████████████| 749 kB 46.6 MB/s \n",
            "\u001b[?25hRequirement already satisfied: click in /usr/local/lib/python3.7/dist-packages (from nltk>=3.3->texthero) (7.1.2)\n",
            "Requirement already satisfied: pytz>=2017.3 in /usr/local/lib/python3.7/dist-packages (from pandas>=1.0.2->texthero) (2018.9)\n",
            "Requirement already satisfied: tenacity>=6.2.0 in /usr/local/lib/python3.7/dist-packages (from plotly>=4.2.0->texthero) (8.0.1)\n",
            "Requirement already satisfied: threadpoolctl>=2.0.0 in /usr/local/lib/python3.7/dist-packages (from scikit-learn>=0.22->texthero) (3.1.0)\n",
            "Requirement already satisfied: blis<0.5.0,>=0.4.0 in /usr/local/lib/python3.7/dist-packages (from spacy<3.0.0->texthero) (0.4.1)\n",
            "Requirement already satisfied: catalogue<1.1.0,>=0.0.7 in /usr/local/lib/python3.7/dist-packages (from spacy<3.0.0->texthero) (1.0.0)\n",
            "Requirement already satisfied: cymem<2.1.0,>=2.0.2 in /usr/local/lib/python3.7/dist-packages (from spacy<3.0.0->texthero) (2.0.6)\n",
            "Requirement already satisfied: preshed<3.1.0,>=3.0.2 in /usr/local/lib/python3.7/dist-packages (from spacy<3.0.0->texthero) (3.0.6)\n",
            "Requirement already satisfied: thinc==7.4.0 in /usr/local/lib/python3.7/dist-packages (from spacy<3.0.0->texthero) (7.4.0)\n",
            "Requirement already satisfied: requests<3.0.0,>=2.13.0 in /usr/local/lib/python3.7/dist-packages (from spacy<3.0.0->texthero) (2.23.0)\n",
            "Requirement already satisfied: murmurhash<1.1.0,>=0.28.0 in /usr/local/lib/python3.7/dist-packages (from spacy<3.0.0->texthero) (1.0.6)\n",
            "Requirement already satisfied: wasabi<1.1.0,>=0.4.0 in /usr/local/lib/python3.7/dist-packages (from spacy<3.0.0->texthero) (0.9.0)\n",
            "Requirement already satisfied: setuptools in /usr/local/lib/python3.7/dist-packages (from spacy<3.0.0->texthero) (57.4.0)\n",
            "Requirement already satisfied: plac<1.2.0,>=0.9.6 in /usr/local/lib/python3.7/dist-packages (from spacy<3.0.0->texthero) (1.1.3)\n",
            "Requirement already satisfied: srsly<1.1.0,>=1.0.2 in /usr/local/lib/python3.7/dist-packages (from spacy<3.0.0->texthero) (1.0.5)\n",
            "Requirement already satisfied: importlib-metadata>=0.20 in /usr/local/lib/python3.7/dist-packages (from catalogue<1.1.0,>=0.0.7->spacy<3.0.0->texthero) (4.11.2)\n",
            "Requirement already satisfied: zipp>=0.5 in /usr/local/lib/python3.7/dist-packages (from importlib-metadata>=0.20->catalogue<1.1.0,>=0.0.7->spacy<3.0.0->texthero) (3.7.0)\n",
            "Requirement already satisfied: typing-extensions>=3.6.4 in /usr/local/lib/python3.7/dist-packages (from importlib-metadata>=0.20->catalogue<1.1.0,>=0.0.7->spacy<3.0.0->texthero) (3.10.0.2)\n",
            "Requirement already satisfied: certifi>=2017.4.17 in /usr/local/lib/python3.7/dist-packages (from requests<3.0.0,>=2.13.0->spacy<3.0.0->texthero) (2021.10.8)\n",
            "Requirement already satisfied: urllib3!=1.25.0,!=1.25.1,<1.26,>=1.21.1 in /usr/local/lib/python3.7/dist-packages (from requests<3.0.0,>=2.13.0->spacy<3.0.0->texthero) (1.24.3)\n",
            "Requirement already satisfied: chardet<4,>=3.0.2 in /usr/local/lib/python3.7/dist-packages (from requests<3.0.0,>=2.13.0->spacy<3.0.0->texthero) (3.0.4)\n",
            "Requirement already satisfied: idna<3,>=2.5 in /usr/local/lib/python3.7/dist-packages (from requests<3.0.0,>=2.13.0->spacy<3.0.0->texthero) (2.10)\n",
            "Requirement already satisfied: pillow in /usr/local/lib/python3.7/dist-packages (from wordcloud>=1.5.0->texthero) (7.1.2)\n",
            "Installing collected packages: regex, unidecode, nltk, texthero\n",
            "  Attempting uninstall: regex\n",
            "    Found existing installation: regex 2019.12.20\n",
            "    Uninstalling regex-2019.12.20:\n",
            "      Successfully uninstalled regex-2019.12.20\n",
            "  Attempting uninstall: nltk\n",
            "    Found existing installation: nltk 3.2.5\n",
            "    Uninstalling nltk-3.2.5:\n",
            "      Successfully uninstalled nltk-3.2.5\n",
            "Successfully installed nltk-3.7 regex-2022.3.2 texthero-1.1.0 unidecode-1.3.3\n",
            "Collecting catboost\n",
            "  Downloading catboost-1.0.4-cp37-none-manylinux1_x86_64.whl (76.1 MB)\n",
            "\u001b[K     |████████████████████████████████| 76.1 MB 1.2 MB/s \n",
            "\u001b[?25hRequirement already satisfied: numpy>=1.16.0 in /usr/local/lib/python3.7/dist-packages (from catboost) (1.21.5)\n",
            "Requirement already satisfied: plotly in /usr/local/lib/python3.7/dist-packages (from catboost) (5.5.0)\n",
            "Requirement already satisfied: six in /usr/local/lib/python3.7/dist-packages (from catboost) (1.15.0)\n",
            "Requirement already satisfied: scipy in /usr/local/lib/python3.7/dist-packages (from catboost) (1.4.1)\n",
            "Requirement already satisfied: graphviz in /usr/local/lib/python3.7/dist-packages (from catboost) (0.10.1)\n",
            "Requirement already satisfied: matplotlib in /usr/local/lib/python3.7/dist-packages (from catboost) (3.2.2)\n",
            "Requirement already satisfied: pandas>=0.24.0 in /usr/local/lib/python3.7/dist-packages (from catboost) (1.3.5)\n",
            "Requirement already satisfied: python-dateutil>=2.7.3 in /usr/local/lib/python3.7/dist-packages (from pandas>=0.24.0->catboost) (2.8.2)\n",
            "Requirement already satisfied: pytz>=2017.3 in /usr/local/lib/python3.7/dist-packages (from pandas>=0.24.0->catboost) (2018.9)\n",
            "Requirement already satisfied: kiwisolver>=1.0.1 in /usr/local/lib/python3.7/dist-packages (from matplotlib->catboost) (1.3.2)\n",
            "Requirement already satisfied: pyparsing!=2.0.4,!=2.1.2,!=2.1.6,>=2.0.1 in /usr/local/lib/python3.7/dist-packages (from matplotlib->catboost) (3.0.7)\n",
            "Requirement already satisfied: cycler>=0.10 in /usr/local/lib/python3.7/dist-packages (from matplotlib->catboost) (0.11.0)\n",
            "Requirement already satisfied: tenacity>=6.2.0 in /usr/local/lib/python3.7/dist-packages (from plotly->catboost) (8.0.1)\n",
            "Installing collected packages: catboost\n",
            "Successfully installed catboost-1.0.4\n",
            "Collecting shap\n",
            "  Downloading shap-0.40.0-cp37-cp37m-manylinux2010_x86_64.whl (564 kB)\n",
            "\u001b[K     |████████████████████████████████| 564 kB 4.3 MB/s \n",
            "\u001b[?25hRequirement already satisfied: tqdm>4.25.0 in /usr/local/lib/python3.7/dist-packages (from shap) (4.63.0)\n",
            "Requirement already satisfied: numba in /usr/local/lib/python3.7/dist-packages (from shap) (0.51.2)\n",
            "Requirement already satisfied: cloudpickle in /usr/local/lib/python3.7/dist-packages (from shap) (1.3.0)\n",
            "Requirement already satisfied: scikit-learn in /usr/local/lib/python3.7/dist-packages (from shap) (1.0.2)\n",
            "Requirement already satisfied: scipy in /usr/local/lib/python3.7/dist-packages (from shap) (1.4.1)\n",
            "Requirement already satisfied: pandas in /usr/local/lib/python3.7/dist-packages (from shap) (1.3.5)\n",
            "Requirement already satisfied: numpy in /usr/local/lib/python3.7/dist-packages (from shap) (1.21.5)\n",
            "Requirement already satisfied: packaging>20.9 in /usr/local/lib/python3.7/dist-packages (from shap) (21.3)\n",
            "Collecting slicer==0.0.7\n",
            "  Downloading slicer-0.0.7-py3-none-any.whl (14 kB)\n",
            "Requirement already satisfied: pyparsing!=3.0.5,>=2.0.2 in /usr/local/lib/python3.7/dist-packages (from packaging>20.9->shap) (3.0.7)\n",
            "Requirement already satisfied: llvmlite<0.35,>=0.34.0.dev0 in /usr/local/lib/python3.7/dist-packages (from numba->shap) (0.34.0)\n",
            "Requirement already satisfied: setuptools in /usr/local/lib/python3.7/dist-packages (from numba->shap) (57.4.0)\n",
            "Requirement already satisfied: python-dateutil>=2.7.3 in /usr/local/lib/python3.7/dist-packages (from pandas->shap) (2.8.2)\n",
            "Requirement already satisfied: pytz>=2017.3 in /usr/local/lib/python3.7/dist-packages (from pandas->shap) (2018.9)\n",
            "Requirement already satisfied: six>=1.5 in /usr/local/lib/python3.7/dist-packages (from python-dateutil>=2.7.3->pandas->shap) (1.15.0)\n",
            "Requirement already satisfied: joblib>=0.11 in /usr/local/lib/python3.7/dist-packages (from scikit-learn->shap) (1.1.0)\n",
            "Requirement already satisfied: threadpoolctl>=2.0.0 in /usr/local/lib/python3.7/dist-packages (from scikit-learn->shap) (3.1.0)\n",
            "Installing collected packages: slicer, shap\n",
            "Successfully installed shap-0.40.0 slicer-0.0.7\n"
          ]
        }
      ],
      "source": [
        "!pip install --upgrade vaderSentiment\n",
        "!pip install texthero\n",
        "!pip install catboost\n",
        "!pip install shap"
      ]
    },
    {
      "cell_type": "markdown",
      "source": [
        "**Cleaning texts:**"
      ],
      "metadata": {
        "id": "yqn6TBwTuNYe"
      }
    },
    {
      "cell_type": "code",
      "execution_count": 7,
      "metadata": {
        "colab": {
          "base_uri": "https://localhost:8080/",
          "height": 675
        },
        "id": "Brc9ZMW0c_Es",
        "outputId": "5b328cb6-2780-4ecc-c679-5092d5213127"
      },
      "outputs": [
        {
          "output_type": "stream",
          "name": "stderr",
          "text": [
            "[nltk_data] Downloading package stopwords to /root/nltk_data...\n",
            "[nltk_data]   Unzipping corpora/stopwords.zip.\n"
          ]
        },
        {
          "output_type": "execute_result",
          "data": {
            "text/html": [
              "\n",
              "  <div id=\"df-c84a3979-a412-4ee9-aa36-e2bf2da28dd0\">\n",
              "    <div class=\"colab-df-container\">\n",
              "      <div>\n",
              "<style scoped>\n",
              "    .dataframe tbody tr th:only-of-type {\n",
              "        vertical-align: middle;\n",
              "    }\n",
              "\n",
              "    .dataframe tbody tr th {\n",
              "        vertical-align: top;\n",
              "    }\n",
              "\n",
              "    .dataframe thead th {\n",
              "        text-align: right;\n",
              "    }\n",
              "</style>\n",
              "<table border=\"1\" class=\"dataframe\">\n",
              "  <thead>\n",
              "    <tr style=\"text-align: right;\">\n",
              "      <th></th>\n",
              "      <th>view_count</th>\n",
              "      <th>likes</th>\n",
              "      <th>dislikes</th>\n",
              "      <th>comment_count</th>\n",
              "      <th>tags</th>\n",
              "      <th>description</th>\n",
              "      <th>comments</th>\n",
              "    </tr>\n",
              "  </thead>\n",
              "  <tbody>\n",
              "    <tr>\n",
              "      <th>0</th>\n",
              "      <td>1048888</td>\n",
              "      <td>19515</td>\n",
              "      <td>226</td>\n",
              "      <td>1319</td>\n",
              "      <td>football soccer ftbol alemn bundesliga season ...</td>\n",
              "      <td>enjoy best skills goals jadon sancho sub https...</td>\n",
              "      <td>respect dortmund fans must sad losing wish wel...</td>\n",
              "    </tr>\n",
              "    <tr>\n",
              "      <th>1</th>\n",
              "      <td>15352638</td>\n",
              "      <td>359277</td>\n",
              "      <td>7479</td>\n",
              "      <td>18729</td>\n",
              "      <td>migos avalanche quality control music motown r...</td>\n",
              "      <td>watch official video migos avalanche stream do...</td>\n",
              "      <td>migos makes want live live fullest amount swag...</td>\n",
              "    </tr>\n",
              "    <tr>\n",
              "      <th>2</th>\n",
              "      <td>925281</td>\n",
              "      <td>11212</td>\n",
              "      <td>401</td>\n",
              "      <td>831</td>\n",
              "      <td></td>\n",
              "      <td>hannah waddingham wins emmy supporting actress...</td>\n",
              "      <td>hannah energy bursts screen well deserved hann...</td>\n",
              "    </tr>\n",
              "    <tr>\n",
              "      <th>3</th>\n",
              "      <td>2641597</td>\n",
              "      <td>39131</td>\n",
              "      <td>441</td>\n",
              "      <td>3745</td>\n",
              "      <td>produce101japan jo1 thestar stargazer protosta...</td>\n",
              "      <td>jo1 young jo1 ver performance video jo1 3rd si...</td>\n",
              "      <td>youngver ren really perfect skillful performan...</td>\n",
              "    </tr>\n",
              "    <tr>\n",
              "      <th>4</th>\n",
              "      <td>715724</td>\n",
              "      <td>32887</td>\n",
              "      <td>367</td>\n",
              "      <td>1067</td>\n",
              "      <td>retaining wall new jersey highway direct conne...</td>\n",
              "      <td>one important innocuous parts constructed envi...</td>\n",
              "      <td>keep projects https practical engineering emai...</td>\n",
              "    </tr>\n",
              "    <tr>\n",
              "      <th>...</th>\n",
              "      <td>...</td>\n",
              "      <td>...</td>\n",
              "      <td>...</td>\n",
              "      <td>...</td>\n",
              "      <td>...</td>\n",
              "      <td>...</td>\n",
              "      <td>...</td>\n",
              "    </tr>\n",
              "    <tr>\n",
              "      <th>37417</th>\n",
              "      <td>120408275</td>\n",
              "      <td>2180780</td>\n",
              "      <td>35871</td>\n",
              "      <td>81360</td>\n",
              "      <td>lil tjay steady calling phone calling phone ti...</td>\n",
              "      <td>official video calling phone lil tjay featurin...</td>\n",
              "      <td>destined win https liltjay lnk destined2win so...</td>\n",
              "    </tr>\n",
              "    <tr>\n",
              "      <th>37418</th>\n",
              "      <td>2841917</td>\n",
              "      <td>20759</td>\n",
              "      <td>1049</td>\n",
              "      <td>2624</td>\n",
              "      <td>nba g league basketball game lakers pelicans p...</td>\n",
              "      <td>pelicans lakers full game highlights january l...</td>\n",
              "      <td>montrezl harrell going crazy rebounds putbacks...</td>\n",
              "    </tr>\n",
              "    <tr>\n",
              "      <th>37419</th>\n",
              "      <td>13346678</td>\n",
              "      <td>720854</td>\n",
              "      <td>4426</td>\n",
              "      <td>90616</td>\n",
              "      <td>mamamoo waw waw mamamoo waw wawn wawn</td>\n",
              "      <td>mv mamamoo instagram https bit ly 2trqpjd face...</td>\n",
              "      <td>honestly know song hit hard something mature s...</td>\n",
              "    </tr>\n",
              "    <tr>\n",
              "      <th>37420</th>\n",
              "      <td>252057</td>\n",
              "      <td>19198</td>\n",
              "      <td>1234</td>\n",
              "      <td>1471</td>\n",
              "      <td>master masterpodcast lord lord vinheteiro z z ...</td>\n",
              "      <td>doctor hair https www thedoctorhair com fbclid...</td>\n",
              "      <td>foi um prazer passar esta tarde com vocs debat...</td>\n",
              "    </tr>\n",
              "    <tr>\n",
              "      <th>37421</th>\n",
              "      <td>2252090</td>\n",
              "      <td>34063</td>\n",
              "      <td>868</td>\n",
              "      <td>2004</td>\n",
              "      <td>spurs tottenham hotspur tottenham leicester sp...</td>\n",
              "      <td>two minute highlights tottenham hotspur victor...</td>\n",
              "      <td>thank kane everything given club bale single h...</td>\n",
              "    </tr>\n",
              "  </tbody>\n",
              "</table>\n",
              "<p>37422 rows × 7 columns</p>\n",
              "</div>\n",
              "      <button class=\"colab-df-convert\" onclick=\"convertToInteractive('df-c84a3979-a412-4ee9-aa36-e2bf2da28dd0')\"\n",
              "              title=\"Convert this dataframe to an interactive table.\"\n",
              "              style=\"display:none;\">\n",
              "        \n",
              "  <svg xmlns=\"http://www.w3.org/2000/svg\" height=\"24px\"viewBox=\"0 0 24 24\"\n",
              "       width=\"24px\">\n",
              "    <path d=\"M0 0h24v24H0V0z\" fill=\"none\"/>\n",
              "    <path d=\"M18.56 5.44l.94 2.06.94-2.06 2.06-.94-2.06-.94-.94-2.06-.94 2.06-2.06.94zm-11 1L8.5 8.5l.94-2.06 2.06-.94-2.06-.94L8.5 2.5l-.94 2.06-2.06.94zm10 10l.94 2.06.94-2.06 2.06-.94-2.06-.94-.94-2.06-.94 2.06-2.06.94z\"/><path d=\"M17.41 7.96l-1.37-1.37c-.4-.4-.92-.59-1.43-.59-.52 0-1.04.2-1.43.59L10.3 9.45l-7.72 7.72c-.78.78-.78 2.05 0 2.83L4 21.41c.39.39.9.59 1.41.59.51 0 1.02-.2 1.41-.59l7.78-7.78 2.81-2.81c.8-.78.8-2.07 0-2.86zM5.41 20L4 18.59l7.72-7.72 1.47 1.35L5.41 20z\"/>\n",
              "  </svg>\n",
              "      </button>\n",
              "      \n",
              "  <style>\n",
              "    .colab-df-container {\n",
              "      display:flex;\n",
              "      flex-wrap:wrap;\n",
              "      gap: 12px;\n",
              "    }\n",
              "\n",
              "    .colab-df-convert {\n",
              "      background-color: #E8F0FE;\n",
              "      border: none;\n",
              "      border-radius: 50%;\n",
              "      cursor: pointer;\n",
              "      display: none;\n",
              "      fill: #1967D2;\n",
              "      height: 32px;\n",
              "      padding: 0 0 0 0;\n",
              "      width: 32px;\n",
              "    }\n",
              "\n",
              "    .colab-df-convert:hover {\n",
              "      background-color: #E2EBFA;\n",
              "      box-shadow: 0px 1px 2px rgba(60, 64, 67, 0.3), 0px 1px 3px 1px rgba(60, 64, 67, 0.15);\n",
              "      fill: #174EA6;\n",
              "    }\n",
              "\n",
              "    [theme=dark] .colab-df-convert {\n",
              "      background-color: #3B4455;\n",
              "      fill: #D2E3FC;\n",
              "    }\n",
              "\n",
              "    [theme=dark] .colab-df-convert:hover {\n",
              "      background-color: #434B5C;\n",
              "      box-shadow: 0px 1px 3px 1px rgba(0, 0, 0, 0.15);\n",
              "      filter: drop-shadow(0px 1px 2px rgba(0, 0, 0, 0.3));\n",
              "      fill: #FFFFFF;\n",
              "    }\n",
              "  </style>\n",
              "\n",
              "      <script>\n",
              "        const buttonEl =\n",
              "          document.querySelector('#df-c84a3979-a412-4ee9-aa36-e2bf2da28dd0 button.colab-df-convert');\n",
              "        buttonEl.style.display =\n",
              "          google.colab.kernel.accessAllowed ? 'block' : 'none';\n",
              "\n",
              "        async function convertToInteractive(key) {\n",
              "          const element = document.querySelector('#df-c84a3979-a412-4ee9-aa36-e2bf2da28dd0');\n",
              "          const dataTable =\n",
              "            await google.colab.kernel.invokeFunction('convertToInteractive',\n",
              "                                                     [key], {});\n",
              "          if (!dataTable) return;\n",
              "\n",
              "          const docLinkHtml = 'Like what you see? Visit the ' +\n",
              "            '<a target=\"_blank\" href=https://colab.research.google.com/notebooks/data_table.ipynb>data table notebook</a>'\n",
              "            + ' to learn more about interactive tables.';\n",
              "          element.innerHTML = '';\n",
              "          dataTable['output_type'] = 'display_data';\n",
              "          await google.colab.output.renderOutput(dataTable, element);\n",
              "          const docLink = document.createElement('div');\n",
              "          docLink.innerHTML = docLinkHtml;\n",
              "          element.appendChild(docLink);\n",
              "        }\n",
              "      </script>\n",
              "    </div>\n",
              "  </div>\n",
              "  "
            ],
            "text/plain": [
              "       view_count    likes  dislikes  comment_count  \\\n",
              "0         1048888    19515       226           1319   \n",
              "1        15352638   359277      7479          18729   \n",
              "2          925281    11212       401            831   \n",
              "3         2641597    39131       441           3745   \n",
              "4          715724    32887       367           1067   \n",
              "...           ...      ...       ...            ...   \n",
              "37417   120408275  2180780     35871          81360   \n",
              "37418     2841917    20759      1049           2624   \n",
              "37419    13346678   720854      4426          90616   \n",
              "37420      252057    19198      1234           1471   \n",
              "37421     2252090    34063       868           2004   \n",
              "\n",
              "                                                    tags  \\\n",
              "0      football soccer ftbol alemn bundesliga season ...   \n",
              "1      migos avalanche quality control music motown r...   \n",
              "2                                                          \n",
              "3      produce101japan jo1 thestar stargazer protosta...   \n",
              "4      retaining wall new jersey highway direct conne...   \n",
              "...                                                  ...   \n",
              "37417  lil tjay steady calling phone calling phone ti...   \n",
              "37418  nba g league basketball game lakers pelicans p...   \n",
              "37419              mamamoo waw waw mamamoo waw wawn wawn   \n",
              "37420  master masterpodcast lord lord vinheteiro z z ...   \n",
              "37421  spurs tottenham hotspur tottenham leicester sp...   \n",
              "\n",
              "                                             description  \\\n",
              "0      enjoy best skills goals jadon sancho sub https...   \n",
              "1      watch official video migos avalanche stream do...   \n",
              "2      hannah waddingham wins emmy supporting actress...   \n",
              "3      jo1 young jo1 ver performance video jo1 3rd si...   \n",
              "4      one important innocuous parts constructed envi...   \n",
              "...                                                  ...   \n",
              "37417  official video calling phone lil tjay featurin...   \n",
              "37418  pelicans lakers full game highlights january l...   \n",
              "37419  mv mamamoo instagram https bit ly 2trqpjd face...   \n",
              "37420  doctor hair https www thedoctorhair com fbclid...   \n",
              "37421  two minute highlights tottenham hotspur victor...   \n",
              "\n",
              "                                                comments  \n",
              "0      respect dortmund fans must sad losing wish wel...  \n",
              "1      migos makes want live live fullest amount swag...  \n",
              "2      hannah energy bursts screen well deserved hann...  \n",
              "3      youngver ren really perfect skillful performan...  \n",
              "4      keep projects https practical engineering emai...  \n",
              "...                                                  ...  \n",
              "37417  destined win https liltjay lnk destined2win so...  \n",
              "37418  montrezl harrell going crazy rebounds putbacks...  \n",
              "37419  honestly know song hit hard something mature s...  \n",
              "37420  foi um prazer passar esta tarde com vocs debat...  \n",
              "37421  thank kane everything given club bale single h...  \n",
              "\n",
              "[37422 rows x 7 columns]"
            ]
          },
          "metadata": {},
          "execution_count": 7
        }
      ],
      "source": [
        "import texthero as hero\n",
        "from texthero import preprocessing\n",
        "\n",
        "df_new = df.drop(['title','video_id','channel_title','channel_id','published_at'],axis=1)\n",
        "\n",
        "df_new['description'] = hero.clean(df_new['description'])\n",
        "df_new['comments'] = hero.clean(df_new['comments'])\n",
        "df_new['tags'] = hero.clean(df_new['tags'])\n",
        "df_new"
      ]
    },
    {
      "cell_type": "markdown",
      "source": [
        "**Sentiment Analysis using VADER:**"
      ],
      "metadata": {
        "id": "x8ONWib2umMn"
      }
    },
    {
      "cell_type": "code",
      "execution_count": 8,
      "metadata": {
        "id": "eK57DXF0fDB1"
      },
      "outputs": [],
      "source": [
        "from vaderSentiment.vaderSentiment import SentimentIntensityAnalyzer\n",
        "analyzer = SentimentIntensityAnalyzer()"
      ]
    },
    {
      "cell_type": "code",
      "execution_count": 9,
      "metadata": {
        "id": "4OQLkwi4HGMN"
      },
      "outputs": [],
      "source": [
        "description_analysis = df_new['description'].apply(analyzer.polarity_scores).apply(pd.Series)"
      ]
    },
    {
      "cell_type": "code",
      "execution_count": 10,
      "metadata": {
        "id": "kej7W-ZakI6M"
      },
      "outputs": [],
      "source": [
        "comments_analysis = df_new['comments'].apply(analyzer.polarity_scores).apply(pd.Series)"
      ]
    },
    {
      "cell_type": "code",
      "execution_count": 11,
      "metadata": {
        "id": "nDUlhtcVkJs7"
      },
      "outputs": [],
      "source": [
        "tags_analysis = df_new['tags'].apply(analyzer.polarity_scores).apply(pd.Series)"
      ]
    },
    {
      "cell_type": "code",
      "execution_count": 12,
      "metadata": {
        "id": "SjkGrwwyxang"
      },
      "outputs": [],
      "source": [
        "description_analysis.rename(columns={\"neg\": \"des_neg\", \"neu\": \"des_neu\", \"pos\": \"des_pos\", \"compound\": \"des_compound\"},inplace=True)\n",
        "comments_analysis.rename(columns={\"neg\": \"com_neg\", \"neu\": \"com_neu\", \"pos\": \"com_pos\", \"compound\": \"com_compound\"},inplace=True)\n",
        "tags_analysis.rename(columns={\"neg\": \"tag_neg\", \"neu\": \"tag_neu\", \"pos\": \"tag_pos\", \"compound\": \"tag_compound\"},inplace=True)\n",
        "\n",
        "sentiment_df = pd.concat([description_analysis,comments_analysis,tags_analysis],axis=1)"
      ]
    },
    {
      "cell_type": "markdown",
      "source": [
        "**Merging data:**"
      ],
      "metadata": {
        "id": "4-xFYcWjwtJj"
      }
    },
    {
      "cell_type": "code",
      "execution_count": 13,
      "metadata": {
        "id": "YHCusrgUyH1t"
      },
      "outputs": [],
      "source": [
        "cleaned_df = pd.concat([df_new,sentiment_df],axis=1).drop([\"comments\",\"description\",\"tags\"],axis=1)"
      ]
    },
    {
      "cell_type": "markdown",
      "source": [
        "**Specify input variables (X) and an output variable (y):**"
      ],
      "metadata": {
        "id": "45cZpEbXxHW2"
      }
    },
    {
      "cell_type": "code",
      "execution_count": 14,
      "metadata": {
        "id": "d5j9XyH_kczL"
      },
      "outputs": [],
      "source": [
        "X = cleaned_df.drop(['dislikes'],axis=1)\n",
        "y = cleaned_df['dislikes']"
      ]
    },
    {
      "cell_type": "markdown",
      "source": [
        "**Traning and testing our model by K-fold cross-validation method:**"
      ],
      "metadata": {
        "id": "o0CqFLkkxRPJ"
      }
    },
    {
      "cell_type": "code",
      "execution_count": 15,
      "metadata": {
        "id": "T2SNXBFBUSE1"
      },
      "outputs": [],
      "source": [
        "from sklearn.pipeline import Pipeline\n",
        "from sklearn.model_selection import KFold\n",
        "from sklearn.model_selection import cross_val_score\n",
        "from catboost import CatBoostRegressor\n",
        "\n",
        "folds = 5\n",
        "\n",
        "regressor = CatBoostRegressor(silent=True)\n",
        "\n",
        "pipeline = Pipeline([ ('estimator', regressor)])\n",
        "\n",
        "cv = KFold(n_splits=folds)\n",
        "scores = cross_val_score(pipeline, X, y,cv = cv , scoring='neg_mean_absolute_error')"
      ]
    },
    {
      "cell_type": "markdown",
      "source": [
        "# Results:"
      ],
      "metadata": {
        "id": "Jb3Zdwnkxk4k"
      }
    },
    {
      "cell_type": "code",
      "source": [
        "scores"
      ],
      "metadata": {
        "colab": {
          "base_uri": "https://localhost:8080/"
        },
        "id": "fy1wc9rYRWhX",
        "outputId": "fc3e51d3-5501-4eb5-aa54-668333a9faa0"
      },
      "execution_count": 16,
      "outputs": [
        {
          "output_type": "execute_result",
          "data": {
            "text/plain": [
              "array([-2661.76505057, -2867.42187418, -2998.63830142, -3015.20152734,\n",
              "       -2797.32965119])"
            ]
          },
          "metadata": {},
          "execution_count": 16
        }
      ]
    },
    {
      "cell_type": "code",
      "execution_count": 17,
      "metadata": {
        "colab": {
          "base_uri": "https://localhost:8080/"
        },
        "id": "gDSgiOi0vg94",
        "outputId": "8c7a87e0-6eda-479c-e3c4-5f19e03b1bba"
      },
      "outputs": [
        {
          "output_type": "execute_result",
          "data": {
            "text/plain": [
              "-2868.071280941621"
            ]
          },
          "metadata": {},
          "execution_count": 17
        }
      ],
      "source": [
        "scores.mean()"
      ]
    },
    {
      "cell_type": "code",
      "execution_count": 18,
      "metadata": {
        "id": "-uvXIfPiCZ8F"
      },
      "outputs": [],
      "source": [
        "from sklearn.model_selection import train_test_split\n",
        "X_train, X_test, y_train, y_test = train_test_split(X, y, test_size = 0.2)"
      ]
    },
    {
      "cell_type": "code",
      "execution_count": 19,
      "metadata": {
        "colab": {
          "base_uri": "https://localhost:8080/"
        },
        "id": "QEM_hdGVhm_D",
        "outputId": "0d592e77-dfcc-4ec2-c7b7-dd4329460a00"
      },
      "outputs": [
        {
          "output_type": "execute_result",
          "data": {
            "text/plain": [
              "<catboost.core.CatBoostRegressor at 0x7f12ba8f3c10>"
            ]
          },
          "metadata": {},
          "execution_count": 19
        }
      ],
      "source": [
        "cat_regressor = CatBoostRegressor(silent=True)\n",
        "cat_regressor.fit(X_train,y_train)"
      ]
    },
    {
      "cell_type": "markdown",
      "source": [
        "**The impact of each feature on the model output:**\n",
        "\n",
        "*For having a cleaner plot, we remove outliers using Z-scores.*"
      ],
      "metadata": {
        "id": "5nyiSN8Tyv-m"
      }
    },
    {
      "cell_type": "code",
      "source": [
        "import scipy.stats as stats\n",
        "z_scores = stats.zscore(X_train)\n",
        "abs_z_scores = np.abs(z_scores)\n",
        "filtered_entries = (abs_z_scores < 1).all(axis=1)\n",
        "new_X = X_train[filtered_entries]"
      ],
      "metadata": {
        "id": "oEHck-mqPfYH"
      },
      "execution_count": 20,
      "outputs": []
    },
    {
      "cell_type": "code",
      "execution_count": 21,
      "metadata": {
        "id": "LXukO5bZdMHw"
      },
      "outputs": [],
      "source": [
        "import shap\n",
        "explainer = shap.TreeExplainer(cat_regressor)\n",
        "shap_values = explainer.shap_values(new_X)"
      ]
    },
    {
      "cell_type": "code",
      "execution_count": 22,
      "metadata": {
        "colab": {
          "base_uri": "https://localhost:8080/",
          "height": 477
        },
        "id": "kSMHagsGdO6-",
        "outputId": "a5485642-823d-418d-f488-452cd84bcbea"
      },
      "outputs": [
        {
          "output_type": "display_data",
          "data": {
            "image/png": "[encoded data removed]",
            "text/plain": [
              "<Figure size 576x540 with 2 Axes>"
            ]
          },
          "metadata": {
            "needs_background": "light"
          }
        }
      ],
      "source": [
        "shap.summary_plot(shap_values, new_X)"
      ]
    },
    {
      "cell_type": "markdown",
      "source": [
        "**The relationship between MAE and video dislike quantity:**"
      ],
      "metadata": {
        "id": "Z29AvOH3yVjH"
      }
    },
    {
      "cell_type": "code",
      "execution_count": 23,
      "metadata": {
        "id": "DmMps7hhl2wA"
      },
      "outputs": [],
      "source": [
        "from sklearn.metrics import mean_absolute_error\n",
        "errors = []\n",
        "ys = []\n",
        "for i in range (np.min(y_test)+1,np.max(y_test),1000):\n",
        "  ys.append(i)\n",
        "  slected_y_test = y_test[y_test<i]\n",
        "  slected_x_test = X_test[y_test<i]\n",
        "# Predicting the Test set results\n",
        "  y_pred = cat_regressor.predict(slected_x_test)\n",
        "  np.set_printoptions(precision=2)\n",
        "  errors.append(mean_absolute_error(slected_y_test, y_pred))"
      ]
    },
    {
      "cell_type": "code",
      "execution_count": 24,
      "metadata": {
        "colab": {
          "base_uri": "https://localhost:8080/",
          "height": 497
        },
        "id": "deUXY--9mUQ1",
        "outputId": "617b1cce-5f85-4d21-caf8-6226a7c56c08"
      },
      "outputs": [
        {
          "output_type": "display_data",
          "data": {
            "image/png": "[encoded data removed]",
            "text/plain": [
              "<Figure size 1080x576 with 1 Axes>"
            ]
          },
          "metadata": {
            "needs_background": "light"
          }
        }
      ],
      "source": [
        "from pylab import rcParams\n",
        "rcParams['figure.figsize'] = 15, 8\n",
        "plt.plot(ys ,errors)\n",
        "plt.xlabel(\"Dislikes\")\n",
        "plt.ylabel(\"MAE\")\n",
        "plt.show()"
      ]
    },
    {
      "cell_type": "markdown",
      "source": [
        "**The relationship between MAE and video views quantity:**"
      ],
      "metadata": {
        "id": "hZ06VZU3ypJn"
      }
    },
    {
      "cell_type": "code",
      "execution_count": 25,
      "metadata": {
        "id": "DMxQEcQ5JUfR"
      },
      "outputs": [],
      "source": [
        "from sklearn.metrics import mean_absolute_error\n",
        "errors = []\n",
        "ys = []\n",
        "for i in range (np.min(X_test['view_count'])+1,np.max(X_test['view_count']),100000):\n",
        "  ys.append(i)\n",
        "  selected_y_test = y_test[X_test['view_count']<i]\n",
        "  selected_x_test = X_test[X_test['view_count']<i]\n",
        "# Predicting the Test set results\n",
        "  y_pred = cat_regressor.predict(selected_x_test)\n",
        "  np.set_printoptions(precision=2)\n",
        "  errors.append(mean_absolute_error(selected_y_test, y_pred))"
      ]
    },
    {
      "cell_type": "code",
      "source": [
        "from pylab import rcParams\n",
        "rcParams['figure.figsize'] = 15, 8\n",
        "plt.plot(ys ,errors)\n",
        "plt.xlabel(\"Views\")\n",
        "plt.ylabel(\"MAE\")\n",
        "plt.show()"
      ],
      "metadata": {
        "colab": {
          "base_uri": "https://localhost:8080/",
          "height": 497
        },
        "id": "Lt7zlgPhvSUE",
        "outputId": "fe2da51e-5124-4ca5-935a-c4988bf847b4"
      },
      "execution_count": 26,
      "outputs": [
        {
          "output_type": "display_data",
          "data": {
            "image/png": "[encoded data removed]",
            "text/plain": [
              "<Figure size 1080x576 with 1 Axes>"
            ]
          },
          "metadata": {
            "needs_background": "light"
          }
        }
      ]
    }
  ],
  "metadata": {
    "colab": {
      "collapsed_sections": [],
      "name": "Predicting YouTube Dislikes via Catboost and Sentiment Analysis",
      "provenance": [],
      "authorship_tag": "ABX9TyNigBu53JLTOZ1+x8c/HI7N",
      "include_colab_link": true
    },
    "kernelspec": {
      "display_name": "Python 3",
      "name": "python3"
    },
    "language_info": {
      "name": "python"
    }
  },
  "nbformat": 4,
  "nbformat_minor": 0
}